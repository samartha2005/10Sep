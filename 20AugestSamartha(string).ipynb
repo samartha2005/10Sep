{
 "cells": [
  {
   "cell_type": "code",
   "execution_count": 1,
   "id": "cca2b016-828a-43e9-9d0b-fdd2c5ee0f52",
   "metadata": {},
   "outputs": [],
   "source": [
    "                       #TOPIC: String Based Assignment Problem"
   ]
  },
  {
   "cell_type": "code",
   "execution_count": 2,
   "id": "868d63be-4e12-4b20-bdca-e039596f7a76",
   "metadata": {},
   "outputs": [],
   "source": [
    "#This string  is for 1 to 10.\n",
    "z = 'This is my first coding'"
   ]
  },
  {
   "cell_type": "code",
   "execution_count": 3,
   "id": "0ce148bb-31b7-497e-b3b1-a100e84cb5c0",
   "metadata": {},
   "outputs": [
    {
     "data": {
      "text/plain": [
       "str"
      ]
     },
     "execution_count": 3,
     "metadata": {},
     "output_type": "execute_result"
    }
   ],
   "source": [
    "#here for defining  string we can also use \"\"(double quote).\n",
    "type(z)"
   ]
  },
  {
   "cell_type": "code",
   "execution_count": 4,
   "id": "6a4d213f-c59e-40f4-9d63-11a5b9d528a7",
   "metadata": {},
   "outputs": [
    {
     "data": {
      "text/plain": [
       "'gnidoc tsrif ym si sihT'"
      ]
     },
     "execution_count": 4,
     "metadata": {},
     "output_type": "execute_result"
    }
   ],
   "source": [
    "'''1. Write a program to reverse a string.'''\n",
    "\n",
    "z[::-1]"
   ]
  },
  {
   "cell_type": "code",
   "execution_count": 5,
   "id": "236e1d23-5d4a-4975-86d3-e35049d10e9e",
   "metadata": {},
   "outputs": [
    {
     "name": "stdout",
     "output_type": "stream",
     "text": [
      "No\n"
     ]
    }
   ],
   "source": [
    "'''2. Check if a string is a palindrome.'''\n",
    "#here palindrome means reverse of a string is  as same as given string.\n",
    "\n",
    "#code\n",
    "def isPalindrome(z):\n",
    "    return z == z[::-1]\n",
    "ans = isPalindrome(z)\n",
    "if ans:  \n",
    "     print(\"Yes\")\n",
    "else:\n",
    "     print(\"No\")"
   ]
  },
  {
   "cell_type": "code",
   "execution_count": 6,
   "id": "fec50eff-5c12-4e7e-a5ac-339a9a2e8215",
   "metadata": {},
   "outputs": [
    {
     "data": {
      "text/plain": [
       "'THIS IS MY FIRST CODING'"
      ]
     },
     "execution_count": 6,
     "metadata": {},
     "output_type": "execute_result"
    }
   ],
   "source": [
    "'''3. Convert a string to uppercase.'''\n",
    "#some redy to use function are known as 'Inbuilt function' . This function is use after the variable for example(c.inbuilt function) . \n",
    "#in upper(inbuilt function), Return a copy of the string converted to uppercase.\n",
    "\n",
    "z.upper()"
   ]
  },
  {
   "cell_type": "code",
   "execution_count": 7,
   "id": "0b6cbce9-815a-4383-a502-6699715b0aa9",
   "metadata": {},
   "outputs": [
    {
     "data": {
      "text/plain": [
       "'this is my first coding'"
      ]
     },
     "execution_count": 7,
     "metadata": {},
     "output_type": "execute_result"
    }
   ],
   "source": [
    "'''4. Convert a string to lowercase.'''\n",
    "#here we use lower (inbuilt function), Return a copy of the string converted to lowercase.\n",
    "\n",
    "z.lower()"
   ]
  },
  {
   "cell_type": "code",
   "execution_count": 8,
   "id": "65b6366e-eb87-43b8-a95a-3c40e44f3019",
   "metadata": {},
   "outputs": [
    {
     "name": "stdout",
     "output_type": "stream",
     "text": [
      "5\n"
     ]
    }
   ],
   "source": [
    "'''5. Count the number of vowels in a string.'''\n",
    "#here count is inbuilt function\n",
    "\n",
    "#code\n",
    "vowels = \"aeiouAEIOU\"\n",
    "count = sum(z.count(vowel) for vowel in vowels)\n",
    "print(count)"
   ]
  },
  {
   "cell_type": "code",
   "execution_count": 9,
   "id": "956310bb-1900-4214-8133-8917a3582482",
   "metadata": {},
   "outputs": [
    {
     "name": "stdout",
     "output_type": "stream",
     "text": [
      "14\n"
     ]
    }
   ],
   "source": [
    "'''6. Count the number of consonants in a string.'''\n",
    "\n",
    "\n",
    "\n",
    "def isConsonant(ch):\n",
    "      \n",
    "    # To handle lower case\n",
    "    ch = ch.upper()\n",
    "  \n",
    "    return not (ch == 'A' or ch == 'E' or \n",
    "                ch == 'I' or ch == 'O' or \n",
    "                ch == 'U') and ord(ch) >= 65 and ord(ch) <= 90\n",
    "  \n",
    "# To count total number of  \n",
    "# consonants from 0 to n-1\n",
    "def totalConsonants(z, n):\n",
    "      \n",
    "    if n == 1:\n",
    "        return isConsonant(z[0])\n",
    "  \n",
    "    return totalConsonants(z, n - 1) + isConsonant(z[n-1])\n",
    "  \n",
    "# Driver code\n",
    "\n",
    "print(totalConsonants(z, len(z)))\n"
   ]
  },
  {
   "cell_type": "code",
   "execution_count": 10,
   "id": "cb75bc8a-45cc-4343-9bbb-e5f10194f4a4",
   "metadata": {},
   "outputs": [
    {
     "data": {
      "text/plain": [
       "'This is my first coding'"
      ]
     },
     "execution_count": 10,
     "metadata": {},
     "output_type": "execute_result"
    }
   ],
   "source": [
    "'''7. Remove all whitespaces from a string.'''\n",
    "#strip(inbuilt function),return a copy of the string with leading and trailing whitespace removed.\n",
    "\n",
    "z.strip()"
   ]
  },
  {
   "cell_type": "code",
   "execution_count": 11,
   "id": "4067f860-703f-4699-aafb-3ef244ef854d",
   "metadata": {},
   "outputs": [
    {
     "name": "stdout",
     "output_type": "stream",
     "text": [
      "23\n"
     ]
    }
   ],
   "source": [
    "'''8. Find the length of a string without using the `len()` function.'''\n",
    "\n",
    "#code\n",
    "def findLen(z):\n",
    "    counter = 0\n",
    "    while z[counter:]:\n",
    "        counter += 1\n",
    "    return counter\n",
    "print(findLen(z))"
   ]
  },
  {
   "cell_type": "code",
   "execution_count": 12,
   "id": "1b9e53bd-d2c7-45cb-bee7-4e5c2c94937a",
   "metadata": {},
   "outputs": [
    {
     "data": {
      "text/plain": [
       "2"
      ]
     },
     "execution_count": 12,
     "metadata": {},
     "output_type": "execute_result"
    }
   ],
   "source": [
    "'''9.Check if a string contains a specific word.'''\n",
    "\n",
    "z.find(\"is\")"
   ]
  },
  {
   "cell_type": "code",
   "execution_count": 13,
   "id": "b7222aab-3484-480f-a960-f64a92a49293",
   "metadata": {},
   "outputs": [
    {
     "data": {
      "text/plain": [
       "'This is my second coding'"
      ]
     },
     "execution_count": 13,
     "metadata": {},
     "output_type": "execute_result"
    }
   ],
   "source": [
    "'''10. Replace a word in a string with another word.'''\n",
    "#replace(inbuilt function) is use for simply made a single change in string.\n",
    "\n",
    "z.replace(\"first\",  \"second\") "
   ]
  },
  {
   "cell_type": "code",
   "execution_count": 14,
   "id": "aecfc559-1327-4837-97ee-7969488e67a6",
   "metadata": {},
   "outputs": [
    {
     "name": "stdout",
     "output_type": "stream",
     "text": [
      "3\n"
     ]
    }
   ],
   "source": [
    "'''11. Count the occurrences of a word in a string.'''\n",
    "#code\n",
    " \n",
    "def countOccurrences(str, word):\n",
    "     \n",
    "    # split the string by spaces in a\n",
    "    a = str.split(\" \")\n",
    " \n",
    "    # search for pattern in a\n",
    "    count = 0\n",
    "    for i in range(0, len(a)):\n",
    "         \n",
    "        # if match found increase count\n",
    "        if (word == a[i]):\n",
    "           count = count + 1\n",
    "            \n",
    "    return count      \n",
    " \n",
    "# Driver code\n",
    "str =\"No need to light a night light on a light night like to night. \"\n",
    "word =\"light\"\n",
    "print(countOccurrences(str, word))"
   ]
  },
  {
   "cell_type": "code",
   "execution_count": 15,
   "id": "b7d7b4ce-3a7b-477b-a971-0427cf5650a1",
   "metadata": {},
   "outputs": [
    {
     "name": "stdout",
     "output_type": "stream",
     "text": [
      "Visit occurence -\n"
     ]
    },
    {
     "data": {
      "text/plain": [
       "(None, -1)"
      ]
     },
     "execution_count": 15,
     "metadata": {},
     "output_type": "execute_result"
    }
   ],
   "source": [
    "'''12. Find the first occurrence of a word in a string.'''\n",
    "\n",
    "#code\n",
    "s = \"visit sparkby tutorials. very very nice!\"\n",
    "print(\"Visit occurence -\"), s.find(\"Visit\")"
   ]
  },
  {
   "cell_type": "code",
   "execution_count": 16,
   "id": "d13e34de-57fb-444a-8379-1aebcd03de1b",
   "metadata": {},
   "outputs": [
    {
     "name": "stdout",
     "output_type": "stream",
     "text": [
      "throws occurence -\n"
     ]
    },
    {
     "data": {
      "text/plain": [
       "(None, 20)"
      ]
     },
     "execution_count": 16,
     "metadata": {},
     "output_type": "execute_result"
    }
   ],
   "source": [
    "'''13. Find the last occurrence of a word in a string.'''\n",
    "\n",
    "#code\n",
    "b = \"He threw three free throws.\"\n",
    "print(\"throws occurence -\"), b.find(\"throws\")"
   ]
  },
  {
   "cell_type": "code",
   "execution_count": 17,
   "id": "811f7be1-598c-4990-b25d-bd583a7607c8",
   "metadata": {},
   "outputs": [
    {
     "name": "stdout",
     "output_type": "stream",
     "text": [
      "['c', 'a', 't']\n"
     ]
    }
   ],
   "source": [
    "'''14. Split a string into a list of words.'''\n",
    "#list(inbuilt function) ,Built-in mutable sequence.\n",
    "\n",
    "a = \"cat\"\n",
    "x = list(a)\n",
    "print(x)"
   ]
  },
  {
   "cell_type": "code",
   "execution_count": 18,
   "id": "48fcb94e-a9b1-4dc5-8dbc-ee484360a28a",
   "metadata": {},
   "outputs": [
    {
     "data": {
      "text/plain": [
       "'He threw three free throws'"
      ]
     },
     "execution_count": 18,
     "metadata": {},
     "output_type": "execute_result"
    }
   ],
   "source": [
    "'''15. Join a list of words into a string.'''\n",
    "#join(inbuilt function) , \n",
    "\n",
    "f = ['He' ,'threw', 'three', 'free', 'throws']\n",
    "' '.join(f)"
   ]
  },
  {
   "cell_type": "code",
   "execution_count": 19,
   "id": "0e052b6a-8efa-4c88-af2f-fe20127bb1fe",
   "metadata": {},
   "outputs": [
    {
     "data": {
      "text/plain": [
       "'h_ a_ p_ p_ y_  _ h_ i_ p_ p_ o_  _ h_ o_ p_ p_ e_ d_  _ a_ n_ d_  _ h_ i_ c_ c_ u_ p_ p_ e_ d_ .'"
      ]
     },
     "execution_count": 19,
     "metadata": {},
     "output_type": "execute_result"
    }
   ],
   "source": [
    "'''16. Convert a string where words are separated by spaces to one where words\n",
    "are separated by underscores.'''\n",
    "\n",
    "e =  \"happy hippo hopped and hiccupped.\"\n",
    "'_ '.join(e)"
   ]
  },
  {
   "cell_type": "code",
   "execution_count": 20,
   "id": "3c9336d1-e2ba-467f-a678-8ad046b8ac33",
   "metadata": {},
   "outputs": [
    {
     "data": {
      "text/plain": [
       "True"
      ]
     },
     "execution_count": 20,
     "metadata": {},
     "output_type": "execute_result"
    }
   ],
   "source": [
    "'''17. Check if a string starts with a specific word or phrase.'''\n",
    "#.startswith(inbuilt function), check if given string is starts with given world not.\n",
    "\n",
    "\n",
    "r = \"Six Czech cricket critics.\"\n",
    "r.startswith('Six')"
   ]
  },
  {
   "cell_type": "code",
   "execution_count": 21,
   "id": "1501c1d5-8c89-4d66-a6a0-4850a3b6fd26",
   "metadata": {},
   "outputs": [
    {
     "data": {
      "text/plain": [
       "True"
      ]
     },
     "execution_count": 21,
     "metadata": {},
     "output_type": "execute_result"
    }
   ],
   "source": [
    "'''18. Check if a string ends with a specific word or phrase.'''\n",
    "#endswith(inbuilt function), checks of function given string ends with given world or not.\n",
    "\n",
    "s = \"An ape hates grape cakes.\"\n",
    "s.endswith('cakes.')"
   ]
  },
  {
   "cell_type": "code",
   "execution_count": 22,
   "id": "689ffdd2-94d4-4662-805e-f0aa9bfd7767",
   "metadata": {},
   "outputs": [
    {
     "data": {
      "text/plain": [
       "'A Proper Copper Coffee Pot.'"
      ]
     },
     "execution_count": 22,
     "metadata": {},
     "output_type": "execute_result"
    }
   ],
   "source": [
    "'''19. Convert a string to title case (e.g., \"hello world\" to \"Hello World\").'''\n",
    "# title(inbuilt function), Return a version of the string where each word is titlecased.\n",
    "\n",
    "s1 = \"a proper copper coffee pot.\"\n",
    "s1.title()"
   ]
  },
  {
   "cell_type": "code",
   "execution_count": 23,
   "id": "4bda1e48-ca4b-4f31-82f1-ff5399e5cc43",
   "metadata": {},
   "outputs": [
    {
     "name": "stdout",
     "output_type": "stream",
     "text": [
      "cakes.\n"
     ]
    }
   ],
   "source": [
    "'''20.Find the longest word in a string.'''\n",
    " \n",
    "    \n",
    "    # word in given sentence\n",
    "def largestWord(p):\n",
    " \n",
    "    # Sort the words in increasing\n",
    "    # order of their lengths\n",
    "    p = sorted(p, key = len)\n",
    " \n",
    "    # Print last word\n",
    "    print(p[-1])\n",
    " \n",
    " \n",
    "# Driver Code\n",
    "if __name__ == \"__main__\":\n",
    " \n",
    "    # Given string\n",
    "    p = \"be confident and be yourself\"\n",
    " \n",
    "    # Split the string into words\n",
    "    l = list(s.split(\" \"))\n",
    " \n",
    "    largestWord(l)"
   ]
  },
  {
   "cell_type": "code",
   "execution_count": 24,
   "id": "fd114939-becb-4c7e-9b87-139161228d99",
   "metadata": {},
   "outputs": [
    {
     "name": "stdout",
     "output_type": "stream",
     "text": [
      "as\n"
     ]
    }
   ],
   "source": [
    "'''21. Find the shortest word in a string.'''\n",
    "#code\n",
    "\n",
    "# smallest word in the string q\n",
    "def smallestWord(q):\n",
    " \n",
    "    # Using sorted() method\n",
    "    q = sorted(q, key = len)\n",
    " \n",
    "    # Print first word\n",
    "    print(q[0])\n",
    " \n",
    " \n",
    "# Driver Code\n",
    "if __name__ == \"__main__\":\n",
    " \n",
    "    # Given string\n",
    "    q = \"as short as\"\n",
    " \n",
    "    # Convert string to list\n",
    "    l = list(q.split(\" \"))\n",
    " \n",
    "    smallestWord(l)"
   ]
  },
  {
   "cell_type": "code",
   "execution_count": 25,
   "id": "1f587987-5bea-4d18-bbfe-7d1973e81dde",
   "metadata": {},
   "outputs": [
    {
     "name": "stdout",
     "output_type": "stream",
     "text": [
      "greenly glow globes glass Green\n"
     ]
    }
   ],
   "source": [
    "'''22.Reverse the order of words in a string.'''\n",
    "\n",
    "\n",
    "# input string\n",
    "string = \"Green glass globes glow greenly\"\n",
    "# reversing words in a given string\n",
    "s = string.split()[::-1]\n",
    "l = []\n",
    "for i in s:\n",
    "    # appending reversed words to l\n",
    "    l.append(i)\n",
    "# printing reverse words\n",
    "print(\" \".join(l))"
   ]
  },
  {
   "cell_type": "code",
   "execution_count": 26,
   "id": "955a3759-8deb-43a9-9599-b017dfba97ca",
   "metadata": {},
   "outputs": [
    {
     "data": {
      "text/plain": [
       "False"
      ]
     },
     "execution_count": 26,
     "metadata": {},
     "output_type": "execute_result"
    }
   ],
   "source": [
    "'''23.Check if a string is alphanumeric.'''\n",
    "# isalnum (inbuilt function), Return True if the string is an alpha-numeric string, False otherwise.\n",
    "\n",
    "y = \"How can a clam cram in a clean cream can?\"\n",
    "y.isalnum()"
   ]
  },
  {
   "cell_type": "code",
   "execution_count": 27,
   "id": "30018761-5aec-4e8d-8f47-8bd860a16842",
   "metadata": {},
   "outputs": [
    {
     "data": {
      "text/plain": [
       "False"
      ]
     },
     "execution_count": 27,
     "metadata": {},
     "output_type": "execute_result"
    }
   ],
   "source": [
    "'''24.Extract all digits from a string.'''\n",
    "#isnumeric(inbuilt function), Return True if the string is a numeric string, False otherwise.\n",
    "x = \"The plate was yellow with black number; two digits, a space, and three digits.\"\n",
    "x.isnumeric()"
   ]
  },
  {
   "cell_type": "code",
   "execution_count": 28,
   "id": "c74525d2-23b0-44e9-93fa-e3bc082dfebc",
   "metadata": {},
   "outputs": [
    {
     "data": {
      "text/plain": [
       "False"
      ]
     },
     "execution_count": 28,
     "metadata": {},
     "output_type": "execute_result"
    }
   ],
   "source": [
    "'''25. Extract all alphabets from a string.'''\n",
    "#isalpha(inbuilt function),Return True if the string is an alphabetic string\n",
    "\n",
    "v = \"How are you?\"\n",
    "v.isalpha()"
   ]
  },
  {
   "cell_type": "code",
   "execution_count": 13,
   "id": "ab838230-f10e-444d-94fa-e77c3a2da70d",
   "metadata": {},
   "outputs": [
    {
     "data": {
      "text/plain": [
       "'26. Count the number of uppercase letters in a string.'"
      ]
     },
     "execution_count": 13,
     "metadata": {},
     "output_type": "execute_result"
    }
   ],
   "source": [
    "'''26. Count the number of uppercase letters in a string.'''\n",
    "\n",
    "\n",
    "\n"
   ]
  },
  {
   "cell_type": "code",
   "execution_count": 16,
   "id": "e45dc10e-ae58-4587-bf45-ff655f74db2f",
   "metadata": {},
   "outputs": [
    {
     "data": {
      "text/plain": [
       "'27. Count the number of lowercase letters in a string.'"
      ]
     },
     "execution_count": 16,
     "metadata": {},
     "output_type": "execute_result"
    }
   ],
   "source": [
    "'''27. Count the number of lowercase letters in a string.'''\n",
    "\n",
    "\n",
    "\n",
    "\n"
   ]
  },
  {
   "cell_type": "code",
   "execution_count": 24,
   "id": "9436287d-8226-434d-9c31-6b8ec1932dae",
   "metadata": {},
   "outputs": [],
   "source": [
    "# Below string is for 28 to \n",
    "s8 = \"He threw three free throws.\""
   ]
  },
  {
   "cell_type": "code",
   "execution_count": 19,
   "id": "55bdba3b-a637-4303-95d3-a4eb019ed681",
   "metadata": {},
   "outputs": [
    {
     "data": {
      "text/plain": [
       "'hE THREW THREE FREE THROWS.'"
      ]
     },
     "execution_count": 19,
     "metadata": {},
     "output_type": "execute_result"
    }
   ],
   "source": [
    "'''28.Swap the case of each character in a string.'''\n",
    "# Swap(inbuilt function), Convert uppercase characters to lowercase and lowercase characters to uppercase.\n",
    "\n",
    "\n",
    "s8.swapcase()"
   ]
  },
  {
   "cell_type": "code",
   "execution_count": 34,
   "id": "5bef081b-068c-4772-861c-48e89d3a21f4",
   "metadata": {},
   "outputs": [
    {
     "data": {
      "text/plain": [
       "' threw three free throws.'"
      ]
     },
     "execution_count": 34,
     "metadata": {},
     "output_type": "execute_result"
    }
   ],
   "source": [
    "'''29.Remove a specific word from a string.'''\n",
    " # Return a str with the given prefix string removed if present\n",
    "    \n",
    "s8.removeprefix(\"He\")  "
   ]
  },
  {
   "cell_type": "code",
   "execution_count": 7,
   "id": "32fdcfef-138c-4b69-a3a1-87480b6d2e35",
   "metadata": {},
   "outputs": [
    {
     "name": "stdout",
     "output_type": "stream",
     "text": [
      "True\n"
     ]
    }
   ],
   "source": [
    "'''30. Check if a string is a valid email address.'''\n",
    "\n",
    "import re  \n",
    "def is_valid_email(email):\n",
    "    pattern = r'^[\\w\\.-]+@[\\w\\.-]+\\.\\w+$'  \n",
    "    if re.match(pattern, email):\n",
    "        return True\n",
    "    else:\n",
    "        return False\n",
    "email1 = \"example@email.com\"\n",
    "result1 = is_valid_email(email1)\n",
    "print(result1)"
   ]
  },
  {
   "cell_type": "code",
   "execution_count": 8,
   "id": "b7d8725a-9468-4f58-87fc-45d0ff68482c",
   "metadata": {},
   "outputs": [
    {
     "name": "stdout",
     "output_type": "stream",
     "text": [
      "example\n"
     ]
    }
   ],
   "source": [
    "'''31. Extract the username from an email address string.'''\n",
    "\n",
    "def extract_username(email):\n",
    "    username = email.split('@')[0]  \n",
    "    return username\n",
    "email = \"example@email.com\"\n",
    "result = extract_username(email)\n",
    "print(result)"
   ]
  },
  {
   "cell_type": "code",
   "execution_count": 9,
   "id": "93846ee8-36d3-427f-ab57-82f7d4f5f462",
   "metadata": {},
   "outputs": [
    {
     "name": "stdout",
     "output_type": "stream",
     "text": [
      "email.com\n"
     ]
    }
   ],
   "source": [
    "'''32. Extract the domain name from an email address string'''\n",
    "\n",
    "def extract_domain(email):\n",
    "    domain = email.split('@')[1] \n",
    "    return domain\n",
    "email = \"example@email.com\"\n",
    "result = extract_domain(email)\n",
    "print(result)"
   ]
  },
  {
   "cell_type": "code",
   "execution_count": 10,
   "id": "9d1f90c6-389a-4663-8e7c-d821f13864b0",
   "metadata": {},
   "outputs": [
    {
     "name": "stdout",
     "output_type": "stream",
     "text": [
      "Hello world! How are you?\n"
     ]
    }
   ],
   "source": [
    "'''33. Replace multiple spaces in a string with a single space'''\n",
    "\n",
    "def replace_multiple_spaces(input_string):\n",
    "    cleaned_string = ' '.join(input_string.split()) \n",
    "    return cleaned_string\n",
    "input_string = \"Hello     world!   How   are   you?\"\n",
    "result = replace_multiple_spaces(input_string)\n",
    "print(result)"
   ]
  },
  {
   "cell_type": "code",
   "execution_count": 11,
   "id": "2b23fc41-76a7-4351-9120-d03a384d2f42",
   "metadata": {},
   "outputs": [
    {
     "name": "stdout",
     "output_type": "stream",
     "text": [
      "True\n",
      "False\n"
     ]
    }
   ],
   "source": [
    "'''34. Check if a string is a valid URL.'''\n",
    "\n",
    "from urllib.parse import urlparse\n",
    "def is_valid_url(url):\n",
    "    try:\n",
    "        result = urlparse(url)\n",
    "        return all([result.scheme, result.netloc])  \n",
    "    except ValueError:\n",
    "        return False\n",
    "url1 = \"https://www.example.com\"\n",
    "result1 = is_valid_url(url1)\n",
    "print(result1)  "
   ]
  },
  {
   "cell_type": "code",
   "execution_count": 1,
   "id": "5b0f0731-ab5b-4cbd-ad9c-2a6853b18c57",
   "metadata": {},
   "outputs": [
    {
     "name": "stdout",
     "output_type": "stream",
     "text": [
      "Protocol 1: https\n"
     ]
    }
   ],
   "source": [
    "'''35. Extract the protocol (http or https) from a URL string.'''\n",
    "\n",
    "def extract_protocol(url):   \n",
    "    protocol_end = url.find(\"://\")\n",
    "    if protocol_end != -1:     \n",
    "        protocol = url[:protocol_end]\n",
    "        return protocol\n",
    "    else:\n",
    "        return None\n",
    "url1 = \"https://www.example.com\"\n",
    "protocol1 = extract_protocol(url1)\n",
    "print(\"Protocol 1:\", protocol1)"
   ]
  },
  {
   "cell_type": "code",
   "execution_count": 2,
   "id": "a78b1201-faba-44d7-aaba-92b2af946510",
   "metadata": {},
   "outputs": [
    {
     "name": "stdout",
     "output_type": "stream",
     "text": [
      "Character: 'h', Frequency: 1\n",
      "Character: 'e', Frequency: 1\n",
      "Character: 'l', Frequency: 3\n",
      "Character: 'o', Frequency: 2\n",
      "Character: ' ', Frequency: 1\n",
      "Character: 'w', Frequency: 1\n",
      "Character: 'r', Frequency: 1\n",
      "Character: 'd', Frequency: 1\n"
     ]
    }
   ],
   "source": [
    "'''36. Find the frequency of each character in a string.'''\n",
    "\n",
    "def character_frequency(input_string):\n",
    "    frequency = {}  \n",
    "    for char in input_string:\n",
    "        if char in frequency:\n",
    "            frequency[char] += 1\n",
    "        else:\n",
    "            frequency[char] = 1   \n",
    "    return frequency\n",
    "input_str = \"hello world\"\n",
    "char_freq = character_frequency(input_str)\n",
    "for char, freq in char_freq.items():\n",
    "    print(f\"Character: '{char}', Frequency: {freq}\")"
   ]
  },
  {
   "cell_type": "code",
   "execution_count": 3,
   "id": "557bfc0a-e6f1-4e22-9825-d9bce8dad459",
   "metadata": {},
   "outputs": [
    {
     "name": "stdout",
     "output_type": "stream",
     "text": [
      "Original string: Hello, world! How's it going?\n",
      "Cleaned string: Hello world Hows it going\n"
     ]
    }
   ],
   "source": [
    "'''37. Remove all punctuation from a string.'''\n",
    "\n",
    "import string\n",
    "def remove_punctuation(input_string):\n",
    "    translator = str.maketrans(\"\", \"\", string.punctuation)\n",
    "    clean_string = input_string.translate(translator)\n",
    "    return clean_string\n",
    "input_str = \"Hello, world! How's it going?\"\n",
    "cleaned_str = remove_punctuation(input_str)\n",
    "print(\"Original string:\", input_str)\n",
    "print(\"Cleaned string:\", cleaned_str)"
   ]
  },
  {
   "cell_type": "code",
   "execution_count": 4,
   "id": "1992c06b-a7d5-4848-9436-02c246573243",
   "metadata": {},
   "outputs": [
    {
     "name": "stdout",
     "output_type": "stream",
     "text": [
      "'12345' contains only digits: True\n"
     ]
    }
   ],
   "source": [
    "'''38. Check if a string contains only digits.'''\n",
    "\n",
    "def contains_only_digits(input_string):\n",
    "    return input_string.isdigit()\n",
    "string1 = \"12345\"\n",
    "result1 = contains_only_digits(string1)\n",
    "print(f\"'{string1}' contains only digits:\", result1)"
   ]
  },
  {
   "cell_type": "code",
   "execution_count": 5,
   "id": "24f9f9a5-df1b-4f9d-b422-f786ba80edbe",
   "metadata": {},
   "outputs": [
    {
     "name": "stdout",
     "output_type": "stream",
     "text": [
      "'Hello' contains only alphabets: True\n"
     ]
    }
   ],
   "source": [
    "'''39. Check if a string contains only alphabets.'''\n",
    "\n",
    "def contains_only_alphabets(input_string):\n",
    "    return input_string.isalpha()\n",
    "string1 = \"Hello\"\n",
    "result1 = contains_only_alphabets(string1)\n",
    "print(f\"'{string1}' contains only alphabets:\", result1)"
   ]
  },
  {
   "cell_type": "code",
   "execution_count": 6,
   "id": "7de1d404-55f3-42f1-81cf-a99e94f0d24f",
   "metadata": {},
   "outputs": [
    {
     "name": "stdout",
     "output_type": "stream",
     "text": [
      "Original string: Hello, world!\n",
      "List of characters: ['H', 'e', 'l', 'l', 'o', ',', ' ', 'w', 'o', 'r', 'l', 'd', '!']\n"
     ]
    }
   ],
   "source": [
    "'''40. Convert a string to a list of characters.'''\n",
    "\n",
    "def string_to_list(input_string):\n",
    "    char_list = list(input_string)\n",
    "    return char_list\n",
    "input_str = \"Hello, world!\"\n",
    "char_list = string_to_list(input_str)\n",
    "print(\"Original string:\", input_str)\n",
    "print(\"List of characters:\", char_list)"
   ]
  },
  {
   "cell_type": "code",
   "execution_count": 7,
   "id": "f9b1962d-a88c-4c82-9c4a-394f45afbc89",
   "metadata": {},
   "outputs": [
    {
     "name": "stdout",
     "output_type": "stream",
     "text": [
      "'listen' and 'silent' are anagrams: True\n"
     ]
    }
   ],
   "source": [
    "''' 41. Check if two strings are anagrams.'''\n",
    "\n",
    "def are_anagrams(str1, str2):\n",
    "    str1 = str1.replace(\" \", \"\").lower()\n",
    "    str2 = str2.replace(\" \", \"\").lower()\n",
    "    return sorted(str1) == sorted(str2)\n",
    "string1 = \"listen\"\n",
    "string2 = \"silent\"\n",
    "string3 = \"hello\"\n",
    "string4 = \"world\"\n",
    "result1 = are_anagrams(string1, string2)\n",
    "result2 = are_anagrams(string3, string4)\n",
    "print(f\"'{string1}' and '{string2}' are anagrams:\", result1)"
   ]
  },
  {
   "cell_type": "code",
   "execution_count": null,
   "id": "af789243-6a00-4437-9662-1c61c394dfff",
   "metadata": {},
   "outputs": [],
   "source": [
    "'''42. Encode a string using a Caesar cipher.'''\n"
   ]
  },
  {
   "cell_type": "code",
   "execution_count": 14,
   "id": "5e120030-e8b6-4379-9719-de752193f320",
   "metadata": {},
   "outputs": [
    {
     "name": "stdout",
     "output_type": "stream",
     "text": [
      "Most frequent word: hello\n"
     ]
    }
   ],
   "source": [
    "''' 44. Find the most frequent word in a string.'''\n",
    "\n",
    "import re\n",
    "from collections import Counter\n",
    "def most_frequent_word(input_string):\n",
    "    clean_string = re.sub(r'[^\\w\\s]', '', input_string).lower()\n",
    "    words = clean_string.split()\n",
    "    word_counter = Counter(words)\n",
    "    most_common_word = word_counter.most_common(1)[0][0]\n",
    "    return most_common_word\n",
    "input_str = \"Hello world, hello there! How's the world?\"\n",
    "most_common = most_frequent_word(input_str)\n",
    "print(\"Most frequent word:\", most_common)"
   ]
  },
  {
   "cell_type": "code",
   "execution_count": 15,
   "id": "8784417c-ff1e-41d6-98c6-d12412eff6f2",
   "metadata": {},
   "outputs": [
    {
     "name": "stdout",
     "output_type": "stream",
     "text": [
      "Unique words: {'the', 'hello', 'hows', 'world', 'there'}\n"
     ]
    }
   ],
   "source": [
    "'''45. Find all unique words in a string.'''\n",
    "\n",
    "import re\n",
    "def unique_words(input_string):\n",
    "    clean_string = re.sub(r'[^\\w\\s]', '', input_string).lower()\n",
    "    words = set(clean_string.split())\n",
    "    return words\n",
    "input_str = \"Hello world, hello there! How's the world?\"\n",
    "unique_word_set = unique_words(input_str)\n",
    "print(\"Unique words:\", unique_word_set)"
   ]
  },
  {
   "cell_type": "code",
   "execution_count": 16,
   "id": "ecca7e89-39be-4f53-9f4e-248bdd241288",
   "metadata": {},
   "outputs": [
    {
     "name": "stdout",
     "output_type": "stream",
     "text": [
      "'hello' has 2 syllables.\n"
     ]
    }
   ],
   "source": [
    "''' 46. Count the number of syllables in a string.'''\n",
    "\n",
    "import re\n",
    "def count_syllables(word):\n",
    "    vowel_groups = re.findall(r'[aeiouy]+', word, re.IGNORECASE)\n",
    "    return len(vowel_groups)\n",
    "word1 = \"hello\"\n",
    "syllables1 = count_syllables(word1)\n",
    "print(f\"'{word1}' has {syllables1} syllables.\")"
   ]
  },
  {
   "cell_type": "code",
   "execution_count": 17,
   "id": "a8bc2239-e6e7-4b78-baad-38c27fdf231d",
   "metadata": {},
   "outputs": [
    {
     "name": "stdout",
     "output_type": "stream",
     "text": [
      "'Hello, world!' contains special characters: True\n"
     ]
    }
   ],
   "source": [
    "''' 47. Check if a string contains any special characters.'''\n",
    "\n",
    "import re\n",
    "def contains_special_characters(input_string): \n",
    "    pattern = re.compile(r'[!@#$%^&*()_+{}\\[\\]:;<>,.?~\\\\/]')\n",
    "    match = pattern.search(input_string)\n",
    "    return bool(match)\n",
    "string1 = \"Hello, world!\"\n",
    "result1 = contains_special_characters(string1)\n",
    "print(f\"'{string1}' contains special characters:\", result1)"
   ]
  },
  {
   "cell_type": "code",
   "execution_count": 18,
   "id": "7cb67a36-367b-4cb6-ae68-83fbdeec7e94",
   "metadata": {},
   "outputs": [
    {
     "name": "stdout",
     "output_type": "stream",
     "text": [
      "Original string: This is an example sentence to test the function.\n",
      "Modified string: This is an sentence to test the function.\n",
      "Removed word: example\n"
     ]
    }
   ],
   "source": [
    "''' 48. Remove the nth word from a string.'''\n",
    "\n",
    "def remove_nth_word(input_string, n):\n",
    "    words = input_string.split()\n",
    "    if n >= 1 and n <= len(words):\n",
    "        removed_word = words.pop(n - 1)\n",
    "        modified_string = ' '.join(words)\n",
    "        return modified_string, removed_word\n",
    "    else:\n",
    "        return None, None\n",
    "input_str = \"This is an example sentence to test the function.\"\n",
    "n_value = 4\n",
    "modified_str, removed_word = remove_nth_word(input_str, n_value)\n",
    "print(\"Original string:\", input_str)\n",
    "if modified_str is not None:\n",
    "    print(\"Modified string:\", modified_str)\n",
    "    print(\"Removed word:\", removed_word)\n",
    "else:\n",
    "    print(\"Invalid n value.\")"
   ]
  },
  {
   "cell_type": "code",
   "execution_count": null,
   "id": "f14cf720-6d38-417b-9ca8-da1d1553aa6e",
   "metadata": {},
   "outputs": [],
   "source": [
    "'''49. Insert a word at the nth position in a string.'''\n",
    "\n"
   ]
  },
  {
   "cell_type": "code",
   "execution_count": 19,
   "id": "f391d677-9eab-4878-bf2f-c3dd96babaac",
   "metadata": {},
   "outputs": [
    {
     "name": "stdout",
     "output_type": "stream",
     "text": [
      "['Name', ' Age', ' Country']\n",
      "['John', ' 25', ' USA']\n",
      "['Alice', ' 30', ' Canada']\n",
      "['Bob', ' 22', ' UK']\n"
     ]
    }
   ],
   "source": [
    "'''50. Convert a CSV string to a list of lists.'''\n",
    "\n",
    "def csv_string_to_list(csv_string):\n",
    "    lines = csv_string.split('\\n')\n",
    "    result = []\n",
    "    for line in lines:\n",
    "        fields = line.split(',')\n",
    "        result.append(fields)\n",
    "    return result\n",
    "csv_data = \"Name, Age, Country\\nJohn, 25, USA\\nAlice, 30, Canada\\nBob, 22, UK\"\n",
    "list_of_lists = csv_string_to_list(csv_data)\n",
    "for row in list_of_lists:\n",
    "    print(row)"
   ]
  }
 ],
 "metadata": {
  "kernelspec": {
   "display_name": "Python 3 (ipykernel)",
   "language": "python",
   "name": "python3"
  },
  "language_info": {
   "codemirror_mode": {
    "name": "ipython",
    "version": 3
   },
   "file_extension": ".py",
   "mimetype": "text/x-python",
   "name": "python",
   "nbconvert_exporter": "python",
   "pygments_lexer": "ipython3",
   "version": "3.10.8"
  }
 },
 "nbformat": 4,
 "nbformat_minor": 5
}
