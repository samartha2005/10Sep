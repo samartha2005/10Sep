{
 "cells": [
  {
   "cell_type": "code",
   "execution_count": 1,
   "id": "c0c430d1-3f22-4210-8dc0-2d2158a5151e",
   "metadata": {},
   "outputs": [],
   "source": [
    "                   #List Based Practice Problem :"
   ]
  },
  {
   "cell_type": "code",
   "execution_count": 2,
   "id": "159fbe77-435e-4528-9ecc-2e5d16c29cee",
   "metadata": {},
   "outputs": [
    {
     "data": {
      "text/plain": [
       "list"
      ]
     },
     "execution_count": 2,
     "metadata": {},
     "output_type": "execute_result"
    }
   ],
   "source": [
    "'''1. Create a list with integers from 1 to 10.'''\n",
    "\n",
    "a = [1,2,3,4,5,6,7,8,9,10]\n",
    "type(a)"
   ]
  },
  {
   "cell_type": "code",
   "execution_count": 3,
   "id": "e2673ea5-8689-4d2d-9c58-8d4141c95265",
   "metadata": {},
   "outputs": [
    {
     "name": "stdout",
     "output_type": "stream",
     "text": [
      "The list is : [1, 4, 5, 7, 8]\n",
      "Length of list using native method is : 5\n"
     ]
    }
   ],
   "source": [
    "'''2. Find the length of a list without using the `len()` function.'''\n",
    "#native methode\n",
    "#code\n",
    "# Initializing list\n",
    "b = [1, 4, 5, 7, 8]\n",
    " \n",
    "# Printing test_list\n",
    "print(\"The list is : \" + str(b))\n",
    " \n",
    "# Finding length of list\n",
    "# using loop\n",
    "# Initializing counter\n",
    "counter = 0\n",
    "for i in b:\n",
    " \n",
    "    # incrementing counter\n",
    "    counter = counter + 1\n",
    " \n",
    "# Printing length of list\n",
    "print(\"Length of list using native method is : \" + str(counter))"
   ]
  },
  {
   "cell_type": "code",
   "execution_count": null,
   "id": "1e50da7c-b338-4764-8185-fe8eff0410d8",
   "metadata": {},
   "outputs": [],
   "source": []
  },
  {
   "cell_type": "code",
   "execution_count": 4,
   "id": "f13ab703-e26d-48d4-a074-7f7ac98bc223",
   "metadata": {},
   "outputs": [
    {
     "data": {
      "text/plain": [
       "list"
      ]
     },
     "execution_count": 4,
     "metadata": {},
     "output_type": "execute_result"
    }
   ],
   "source": [
    "#list for 3 to 6 \n",
    "l1 = [1,2,3,5,6,'Manali','samu']\n",
    "type(l1)"
   ]
  },
  {
   "cell_type": "code",
   "execution_count": 5,
   "id": "3dfabaf4-d570-4a4e-80a7-5e508c04e72f",
   "metadata": {},
   "outputs": [
    {
     "name": "stdout",
     "output_type": "stream",
     "text": [
      "[1, 2, 3, 5, 6, 'Manali', 'samu', 'Samartha']\n"
     ]
    }
   ],
   "source": [
    "'''3. Append an element to the end of a list.'''\n",
    "# Append object to the end of the list\n",
    "\n",
    "#code\n",
    "l1.append('Samartha')\n",
    "print(l1)"
   ]
  },
  {
   "cell_type": "code",
   "execution_count": 6,
   "id": "d9b73f95-801f-4c86-9d60-43b02c443574",
   "metadata": {},
   "outputs": [
    {
     "name": "stdout",
     "output_type": "stream",
     "text": [
      "[1, 2, 3, 5, 'smart', 6, 'Manali', 'samu', 'Samartha']\n"
     ]
    }
   ],
   "source": [
    "'''4. Insert an element at a specific index in a list.'''\n",
    "# Insert object before index\n",
    "\n",
    "#code\n",
    "l1.insert(4, 'smart') \n",
    "print(l1)"
   ]
  },
  {
   "cell_type": "code",
   "execution_count": 7,
   "id": "9e4ff047-fdb6-4787-9997-9b2889562119",
   "metadata": {},
   "outputs": [
    {
     "data": {
      "text/plain": [
       "[1, 2, 3, 5, 6, 'Manali', 'samu', 'Samartha']"
      ]
     },
     "execution_count": 7,
     "metadata": {},
     "output_type": "execute_result"
    }
   ],
   "source": [
    "'''5. Remove an element from a list by its value.'''\n",
    "\n",
    "#code\n",
    "l1.remove('smart')\n",
    "l1"
   ]
  },
  {
   "cell_type": "code",
   "execution_count": 8,
   "id": "555773f3-a182-4980-af11-52ee1174ed14",
   "metadata": {
    "tags": []
   },
   "outputs": [
    {
     "name": "stdout",
     "output_type": "stream",
     "text": [
      "[2, 3, 5, 6, 'Manali', 'samu', 'Samartha']\n"
     ]
    }
   ],
   "source": [
    "'''6. Remove an element from a list by its index.'''\n",
    "\n",
    "# code\n",
    "l1.remove(1)\n",
    "print(l1)"
   ]
  },
  {
   "cell_type": "code",
   "execution_count": 9,
   "id": "59a5cbf2-70f3-43af-a9d3-d147277efadc",
   "metadata": {},
   "outputs": [
    {
     "name": "stdout",
     "output_type": "stream",
     "text": [
      "Checking if 15 exists in list\n",
      "Yes, 15 exists in list\n"
     ]
    }
   ],
   "source": [
    "'''7. Check if an element exists in a list.'''\n",
    "\n",
    "\n",
    "# Initializing list\n",
    "test_list = [10, 15, 20, 7, 46, 2808]\n",
    " \n",
    "print(\"Checking if 15 exists in list\")\n",
    " \n",
    "# number of times element exists in list\n",
    "exist_count = test_list.count(15)\n",
    " \n",
    "# checking if it is more than 0\n",
    "if exist_count > 0:\n",
    "    print(\"Yes, 15 exists in list\")\n",
    "else:\n",
    "    print(\"No, 15 does not exists in list\")"
   ]
  },
  {
   "cell_type": "code",
   "execution_count": 10,
   "id": "fdd2bb83-631d-45af-bf20-1724eb3a7445",
   "metadata": {},
   "outputs": [],
   "source": [
    "# below list for 8 to 10.\n",
    "\n",
    "l2 = [3,56,5,67,22999,0,3,3,'Samu','fox','cat']"
   ]
  },
  {
   "cell_type": "code",
   "execution_count": 11,
   "id": "942b62a7-e335-4e3f-a9a8-8fcde0a378ac",
   "metadata": {},
   "outputs": [
    {
     "data": {
      "text/plain": [
       "1"
      ]
     },
     "execution_count": 11,
     "metadata": {},
     "output_type": "execute_result"
    }
   ],
   "source": [
    "'''8.Find the index of the first occurrence of an element in a list.'''\n",
    "\n",
    "l2.index(56)"
   ]
  },
  {
   "cell_type": "code",
   "execution_count": 12,
   "id": "2c1d7b71-bece-445e-b428-e8084d731a16",
   "metadata": {},
   "outputs": [
    {
     "data": {
      "text/plain": [
       "3"
      ]
     },
     "execution_count": 12,
     "metadata": {},
     "output_type": "execute_result"
    }
   ],
   "source": [
    "'''9. Count the occurrences of an element in a list.'''\n",
    "\n",
    "l2.count(3)"
   ]
  },
  {
   "cell_type": "code",
   "execution_count": 13,
   "id": "70663f13-f668-46a2-9c46-9b2d7cbae0a8",
   "metadata": {},
   "outputs": [
    {
     "data": {
      "text/plain": [
       "['cat', 'fox', 'Samu', 3, 3, 0, 22999, 67, 5, 56, 3]"
      ]
     },
     "execution_count": 13,
     "metadata": {},
     "output_type": "execute_result"
    }
   ],
   "source": [
    "'''10. Reverse the order of elements in a list.'''\n",
    "\n",
    "l2.reverse()\n",
    "l2"
   ]
  },
  {
   "cell_type": "code",
   "execution_count": 25,
   "id": "095a5641-b4f5-4222-8491-e18fccaec6dd",
   "metadata": {},
   "outputs": [],
   "source": [
    "# Below list is for 11 and 12\n",
    "\n",
    "l3 = [3,88,5678,0,45,78,3,25]"
   ]
  },
  {
   "cell_type": "code",
   "execution_count": 27,
   "id": "b4784ce4-efe4-44ca-a7d9-84a148d3f97e",
   "metadata": {},
   "outputs": [
    {
     "data": {
      "text/plain": [
       "[0, 3, 3, 25, 45, 78, 88, 5678]"
      ]
     },
     "execution_count": 27,
     "metadata": {},
     "output_type": "execute_result"
    }
   ],
   "source": [
    "'''11. Sort a list in ascending order.'''\n",
    "\n",
    "l3.sort()\n",
    "l3"
   ]
  },
  {
   "cell_type": "code",
   "execution_count": 28,
   "id": "ad3614fd-db79-4e34-aa47-971fda2af029",
   "metadata": {},
   "outputs": [
    {
     "data": {
      "text/plain": [
       "[5678, 88, 78, 45, 25, 3, 3, 0]"
      ]
     },
     "execution_count": 28,
     "metadata": {},
     "output_type": "execute_result"
    }
   ],
   "source": [
    "'''12. Sort a list in descending order.'''\n",
    " \n",
    "l3.sort(reverse=True)\n",
    "l3"
   ]
  },
  {
   "cell_type": "code",
   "execution_count": 29,
   "id": "742fecd9-f647-452d-9eb2-1c06aa0977f6",
   "metadata": {},
   "outputs": [
    {
     "name": "stdout",
     "output_type": "stream",
     "text": [
      "2 4 6 8 10 12 14 16 18 20 "
     ]
    }
   ],
   "source": [
    "'''13. Create a list of even numbers from 1 to 20.'''\n",
    "#code\n",
    "\n",
    "# list of numbers\n",
    "l4 = [1,2,3,4,5,6,7,8,9,10,11,12,13,14,15,16,17,18,19,20]\n",
    " \n",
    "# iterating each number in list\n",
    "for num in l4:\n",
    " \n",
    "    # checking condition\n",
    "    if num % 2 == 0:\n",
    "        print(num, end=\" \")"
   ]
  },
  {
   "cell_type": "code",
   "execution_count": 30,
   "id": "ea88ba38-2a36-4d24-9d50-610c901022f3",
   "metadata": {},
   "outputs": [
    {
     "name": "stdout",
     "output_type": "stream",
     "text": [
      "1 3 5 7 9 11 13 15 17 19 "
     ]
    }
   ],
   "source": [
    "'''14. Create a list of odd numbers from 1 to 20.'''\n",
    "#code\n",
    "\n",
    "# list of numbers\n",
    "l5 = [1,2,3,4,5,6,7,8,9,10,11,12,13,14,15,16,17,18,19,20]\n",
    " \n",
    "# iterating each number in list\n",
    "for num in l5:\n",
    " \n",
    "    # checking condition\n",
    "    if num % 2 != 0:\n",
    "    print(num, end=\" \")"
   ]
  },
  {
   "cell_type": "code",
   "execution_count": 32,
   "id": "81a66e2c-466e-4819-bd5d-63c527a00d3f",
   "metadata": {},
   "outputs": [],
   "source": [
    "# Below list is for 15 to 18.\n",
    "\n",
    "l6 = [11, 5, 17, 18, 23]"
   ]
  },
  {
   "cell_type": "code",
   "execution_count": 33,
   "id": "602c1a6a-2d01-471b-bdd3-c675e17e5bd6",
   "metadata": {},
   "outputs": [
    {
     "name": "stdout",
     "output_type": "stream",
     "text": [
      "Sum of all elements in given list:  74\n"
     ]
    }
   ],
   "source": [
    "'''15. Find the sum of all elements in a list.'''\n",
    "#code\n",
    " \n",
    "# using sum() function\n",
    "total = sum(l6)\n",
    " \n",
    "# printing total value\n",
    "print(\"Sum of all elements in given list: \", total)"
   ]
  },
  {
   "cell_type": "code",
   "execution_count": 34,
   "id": "c0f44bad-573b-4ca9-a16c-65bb15e750c2",
   "metadata": {},
   "outputs": [
    {
     "name": "stdout",
     "output_type": "stream",
     "text": [
      "Max element in given list:  23\n"
     ]
    }
   ],
   "source": [
    "'''16. Find the maximum value in a list.'''\n",
    "#code\n",
    " \n",
    " #using \n",
    "total = max(l6)\n",
    "\n",
    "# Printing total value\n",
    "print (\"Max element in given list: \", total)"
   ]
  },
  {
   "cell_type": "code",
   "execution_count": 35,
   "id": "d5f35b35-777d-48f5-902f-fcb024035704",
   "metadata": {},
   "outputs": [
    {
     "name": "stdout",
     "output_type": "stream",
     "text": [
      "Min element in given list:  5\n"
     ]
    }
   ],
   "source": [
    "'''17. Find the minimum value in a list.'''\n",
    "#code\n",
    "\n",
    "#using \n",
    "total = min(l6)\n",
    "\n",
    "# Printing total value\n",
    "print (\"Min element in given list: \", total)"
   ]
  },
  {
   "cell_type": "code",
   "execution_count": 43,
   "id": "2b53ed2f-4052-41cb-abf4-a0fdab62b7e2",
   "metadata": {},
   "outputs": [
    {
     "name": "stdout",
     "output_type": "stream",
     "text": [
      "List with square of integers from 1 to 10:\n",
      "[1, 4, 9, 16, 25, 36, 49, 64, 81, 100]\n"
     ]
    }
   ],
   "source": [
    "'''18. Create a list of squares of numbers from 1 to 10.'''\n",
    "#code\n",
    "\n",
    "l7= []\n",
    "for i in range(1,11):\n",
    "    l7.append(i*i)\n",
    "print(\"List with square of integers from 1 to 10:\")\n",
    "print(l7)"
   ]
  },
  {
   "cell_type": "code",
   "execution_count": 46,
   "id": "9ca85a1e-8693-4270-bfbe-bbee4747b4e5",
   "metadata": {},
   "outputs": [
    {
     "name": "stdout",
     "output_type": "stream",
     "text": [
      "Random number list is : [17, 31, 22, 14, 15, 40, 24]\n"
     ]
    }
   ],
   "source": [
    "'''19. Create a list of random numbers.'''\n",
    "#code\n",
    "\n",
    "# to generate random number list\n",
    "# using random.sample()\n",
    "import random\n",
    " \n",
    "# using random.sample()\n",
    "# to generate random number list\n",
    "res = random.sample(range(1, 50), 7)\n",
    " \n",
    "# printing result\n",
    "print (\"Random number list is : \" +  str(res))"
   ]
  },
  {
   "cell_type": "code",
   "execution_count": 49,
   "id": "b22e5bd7-d7ca-455d-af82-426ca69b2e4b",
   "metadata": {},
   "outputs": [
    {
     "name": "stdout",
     "output_type": "stream",
     "text": [
      "The original list is : [1, 5, 3, 6, 3, 5, 6, 1]\n",
      "The list after removing duplicates : [1, 3, 5, 6]\n"
     ]
    }
   ],
   "source": [
    "'''20. Remove duplicates from a list.'''\n",
    "\n",
    "#code\n",
    "\n",
    "# initializing list\n",
    "test_list = [1, 5, 3, 6, 3, 5, 6, 1]\n",
    "print (\"The original list is : \"\n",
    "        + str(test_list))\n",
    " \n",
    "# using set() to remove duplicated from list\n",
    "test_list = list(set(test_list))\n",
    " \n",
    "# printing list after removal\n",
    "# distorted ordering\n",
    "print (\"The list after removing duplicates : \"\n",
    "        + str(test_list))"
   ]
  },
  {
   "cell_type": "code",
   "execution_count": 57,
   "id": "3c1d850a-fa71-49c0-9228-55569df9afe5",
   "metadata": {},
   "outputs": [],
   "source": [
    "#below list is for 21 to 23.\n",
    "\n",
    "lis1 = [10, 15, 20, 25, 30, 35, 40]\n",
    "lis2 = [25, 40, 35]"
   ]
  },
  {
   "cell_type": "code",
   "execution_count": 60,
   "id": "99085e78-e8d5-4444-9f2b-a681e07eb8a2",
   "metadata": {},
   "outputs": [
    {
     "name": "stdout",
     "output_type": "stream",
     "text": [
      "The common elements in the two lists are: \n",
      "[25, 35, 40]\n"
     ]
    }
   ],
   "source": [
    "'''21. Find the common elements between two lists.'''\n",
    "#code\n",
    "\n",
    "\n",
    "def common_member(lis1, lis2):\n",
    "    result = [i for i in lis1 if i in lis2]\n",
    "    return result\n",
    "print(\"The common elements in the two lists are: \")\n",
    "print(common_member(lis1, lis2))"
   ]
  },
  {
   "cell_type": "code",
   "execution_count": 54,
   "id": "49bc67c5-45cf-44bb-9c41-bd37b2a9cf7e",
   "metadata": {},
   "outputs": [
    {
     "name": "stdout",
     "output_type": "stream",
     "text": [
      "[10, 15, 20, 30]\n"
     ]
    }
   ],
   "source": [
    "'''22. Find the difference between two lists.'''\n",
    "#code\n",
    "\n",
    "s = set(lis2)\n",
    "temp3 = [x for x in lis1 if x not in s]\n",
    "print(temp3)"
   ]
  },
  {
   "cell_type": "code",
   "execution_count": 63,
   "id": "a217f3a9-9e77-4029-a391-651ade5d28e1",
   "metadata": {},
   "outputs": [
    {
     "name": "stdout",
     "output_type": "stream",
     "text": [
      "Merge list:\n",
      "[10, 15, 20, 25, 30, 35, 40, 25, 40, 35, 25, 40, 35]\n"
     ]
    }
   ],
   "source": [
    "'''23. Merge two lists.'''\n",
    "\n",
    "lis1.extend(lis2)\n",
    "print('Merge list:')\n",
    "print(lis1)"
   ]
  },
  {
   "cell_type": "code",
   "execution_count": 79,
   "id": "413f0f56-1d6d-417a-a9c7-90c30339af39",
   "metadata": {},
   "outputs": [],
   "source": [
    "# Below list for 24 and 25.\n",
    "\n",
    "l5 =[1,2,3,4,]"
   ]
  },
  {
   "cell_type": "code",
   "execution_count": 80,
   "id": "1ac26ed7-5f8a-44d2-aee0-7fa7aa726db3",
   "metadata": {},
   "outputs": [
    {
     "name": "stdout",
     "output_type": "stream",
     "text": [
      "576\n"
     ]
    }
   ],
   "source": [
    "'''24. Multiply all elements in a list by 2.'''\n",
    "#code\n",
    "import math \n",
    "result1 = math.prod(l5*2)\n",
    "print(result1)"
   ]
  },
  {
   "cell_type": "code",
   "execution_count": 85,
   "id": "eaef56fe-1c7c-4b0b-8a2e-e865da5a7866",
   "metadata": {},
   "outputs": [
    {
     "name": "stdout",
     "output_type": "stream",
     "text": [
      "[2, 4]\n"
     ]
    }
   ],
   "source": [
    "'''25. Filter out all even numbers from a list.'''\n",
    "#code\n",
    "\n",
    "# Output list initialisation\n",
    "out = []\n",
    "for num in l5: \n",
    "# checking condition\n",
    "  if num % 2 == 0:\n",
    "    out.append(num)\n",
    "# printing output\n",
    "print(out)"
   ]
  },
  {
   "cell_type": "code",
   "execution_count": 2,
   "id": "0549bd2d-a728-4fa1-a2b5-e3472158c450",
   "metadata": {},
   "outputs": [
    {
     "name": "stdout",
     "output_type": "stream",
     "text": [
      "Modified list is:  [1, -4, 3, -6, 7]\n"
     ]
    }
   ],
   "source": [
    "'''26. Convert a list of strings to a list of integers.'''\n",
    "# code\n",
    "\n",
    "lis = ['1', '-4', '3', '-6', '7']\n",
    "res = [eval(i) for i in lis]\n",
    "print(\"Modified list is: \", res)"
   ]
  },
  {
   "cell_type": "code",
   "execution_count": 3,
   "id": "1824d3d5-95ef-4e1b-8b03-a9d593d2238a",
   "metadata": {},
   "outputs": [
    {
     "name": "stdout",
     "output_type": "stream",
     "text": [
      "['1', '12', '15', '21', '131']\n"
     ]
    }
   ],
   "source": [
    "'''27. Convert a list of integers to a list of strings.'''\n",
    "\n",
    "# List initialization\n",
    "list_int = [1, 12, 15, 21, 131]\n",
    "   \n",
    "# mapping\n",
    "list_string = map(str, list_int)\n",
    "   \n",
    "# Printing sorted list of integers\n",
    "print(list(list_string))"
   ]
  },
  {
   "cell_type": "code",
   "execution_count": 4,
   "id": "729fcc8b-c28f-4fcb-bfbb-3ba38a16e4ef",
   "metadata": {},
   "outputs": [
    {
     "name": "stdout",
     "output_type": "stream",
     "text": [
      "[1, 2, 3, 4, 5, 6, 7]\n"
     ]
    }
   ],
   "source": [
    "'''28. Flatten a nested list.'''\n",
    "\n",
    "l11 = [[1], [2, 3], [4, 5, 6, 7]]\n",
    "\n",
    "flat_list = [num for sublist in l11 for num in sublist]\n",
    "print(flat_list)"
   ]
  },
  {
   "cell_type": "code",
   "execution_count": 2,
   "id": "044ad7c5-4a64-44a6-9f20-c96804921ae3",
   "metadata": {},
   "outputs": [
    {
     "name": "stdout",
     "output_type": "stream",
     "text": [
      "First 10 Fibonacci numbers: [0, 1]\n"
     ]
    }
   ],
   "source": [
    "'''29. Create a list of the first 10 Fibonacci numbers.'''\n",
    "\n",
    "# Function to generate the first n Fibonacci numbers\n",
    "def generate_fibonacci(n):\n",
    "    fibonacci_list = [0, 1]  # Initialize the list with the first two Fibonacci numbers\n",
    "\n",
    "    for i in range(2, n):\n",
    "        next_fibonacci = fibonacci_list[i - 1] + fibonacci_list[i - 2]\n",
    "        fibonacci_list.append(next_fibonacci)\n",
    "\n",
    "    return fibonacci_list\n",
    "\n",
    "# Generate the first 10 Fibonacci numbers\n",
    "fibonacci_numbers = generate_fibonacci(2)\n",
    "\n",
    "# Print the list of Fibonacci numbers\n",
    "print(\"First 10 Fibonacci numbers:\", fibonacci_numbers)"
   ]
  },
  {
   "cell_type": "code",
   "execution_count": 3,
   "id": "9c8556bd-aa7e-471d-8cb4-c3740a54ae02",
   "metadata": {},
   "outputs": [
    {
     "name": "stdout",
     "output_type": "stream",
     "text": [
      "The list is sorted in ascending order.\n"
     ]
    }
   ],
   "source": [
    "'''30. Check if a list is sorted.'''\n",
    "\n",
    "# Function to check if a list is sorted in ascending order\n",
    "def is_sorted_ascending(lst):\n",
    "    for i in range(1, len(lst)):\n",
    "        if lst[i] < lst[i - 1]:\n",
    "            return False\n",
    "    return True\n",
    "\n",
    "# Example list\n",
    "ascending_list = [10, 20, 30, 40, 50]\n",
    "\n",
    "# Check if the list is sorted in ascending order\n",
    "if is_sorted_ascending(ascending_list):\n",
    "    print(\"The list is sorted in ascending order.\")\n",
    "else:\n",
    "    print(\"The list is not sorted in ascending order.\")"
   ]
  },
  {
   "cell_type": "code",
   "execution_count": 5,
   "id": "71a58158-0fac-405c-a01b-dc5831bfe357",
   "metadata": {},
   "outputs": [
    {
     "name": "stdout",
     "output_type": "stream",
     "text": [
      "Rotated list: [5, 6, 1, 2, 3, 4]\n"
     ]
    }
   ],
   "source": [
    "'''32. Rotate a list to the right by `n` positions.'''\n",
    "\n",
    "# Function to rotate a list to the right by n positions\n",
    "def rotate_right(lst, n):\n",
    "    n = n % len(lst)  # Normalize n to handle cases where n is larger than the list length\n",
    "    # print(n)\n",
    "    rotated = lst[-n:] + lst[:-n]\n",
    "    return rotated\n",
    "\n",
    "# Example list\n",
    "my_list = [1, 2, 3, 4, 5, 6]\n",
    "\n",
    "# Number of positions to rotate by\n",
    "n = 2\n",
    "\n",
    "# Rotate the list to the right by n positions\n",
    "rotated_list = rotate_right(my_list, n)\n",
    "\n",
    "# Print the rotated list\n",
    "print(\"Rotated list:\", rotated_list)"
   ]
  },
  {
   "cell_type": "code",
   "execution_count": 3,
   "id": "d11bd31f-b7c4-45bb-9887-baba735247c2",
   "metadata": {},
   "outputs": [
    {
     "name": "stdout",
     "output_type": "stream",
     "text": [
      "3\n",
      "5\n",
      "7\n",
      "9\n",
      "11\n",
      "13\n",
      "15\n",
      "17\n",
      "19\n",
      "21\n",
      "23\n",
      "25\n",
      "27\n",
      "29\n",
      "31\n",
      "33\n",
      "35\n",
      "37\n",
      "39\n",
      "41\n",
      "43\n",
      "45\n",
      "47\n",
      "49\n"
     ]
    }
   ],
   "source": [
    "'''33. Create a list of prime numbers up to 50.'''\n",
    "\n",
    "for num in range(1, 50):\n",
    "    for i in range(2, num):\n",
    "        if num % i == 0:\n",
    "            break\n",
    "        else:\n",
    "            print(num)\n",
    "            break"
   ]
  },
  {
   "cell_type": "code",
   "execution_count": 4,
   "id": "27823e80-a44d-4bc4-b11c-6527866bc5e6",
   "metadata": {},
   "outputs": [
    {
     "name": "stdout",
     "output_type": "stream",
     "text": [
      "List of prime numbers up to 50: [2, 3, 5, 7, 11, 13, 17, 19, 23, 29, 31, 37, 41, 43, 47]\n"
     ]
    }
   ],
   "source": [
    "'''34. Split a list into chunks of size `n`.'''\n",
    "\n",
    "# Create a list of prime numbers up to 50 using Sieve of Eratosthenes algorithm\n",
    "def sieve_of_eratosthenes(limit):\n",
    "    primes = []\n",
    "    is_prime = [True] * (limit + 1)\n",
    "    is_prime[0] = is_prime[1] = False\n",
    "\n",
    "    for num in range(2, int(limit ** 0.5) + 1):\n",
    "        if is_prime[num]:\n",
    "            primes.append(num)\n",
    "            for multiple in range(num * num, limit + 1, num):\n",
    "                is_prime[multiple] = False\n",
    "\n",
    "    for num in range(int(limit ** 0.5) + 1, limit + 1):\n",
    "        if is_prime[num]:\n",
    "            primes.append(num)\n",
    "\n",
    "    return primes\n",
    "\n",
    "# Create a list of prime numbers up to 50\n",
    "prime_numbers = sieve_of_eratosthenes(50)\n",
    "\n",
    "# Print the list of prime numbers\n",
    "print(\"List of prime numbers up to 50:\", prime_numbers)"
   ]
  },
  {
   "cell_type": "code",
   "execution_count": 5,
   "id": "28cbf069-703d-42f3-a717-f7c12c56a928",
   "metadata": {},
   "outputs": [
    {
     "name": "stdout",
     "output_type": "stream",
     "text": [
      "Second largest number: 25\n"
     ]
    }
   ],
   "source": [
    "'''35. Find the second largest number in a list.'''\n",
    "\n",
    "# Example list\n",
    "my_list = [10, 5, 20, 15, 30, 25]\n",
    "\n",
    "# Remove duplicates and sort the list in ascending order\n",
    "sorted_list = sorted(set(my_list))\n",
    "\n",
    "# Find the second largest number\n",
    "if len(sorted_list) >= 2:\n",
    "    second_largest = sorted_list[-2]\n",
    "    print(\"Second largest number:\", second_largest)\n",
    "else:\n",
    "    print(\"The list does not contain enough elements.\")"
   ]
  },
  {
   "cell_type": "code",
   "execution_count": 6,
   "id": "4862701c-8c21-447a-923d-7e0a54b17575",
   "metadata": {},
   "outputs": [
    {
     "name": "stdout",
     "output_type": "stream",
     "text": [
      "Squared list: [4, 16, 36, 64, 100]\n"
     ]
    }
   ],
   "source": [
    "'''36. Replace every element in a list with its square.'''\n",
    "\n",
    "my_list = [2, 4, 6, 8, 10]\n",
    "\n",
    "# Replace every element with its square using a list comprehension\n",
    "squared_list = [x ** 2 for x in my_list]\n",
    "\n",
    "# Print the squared list\n",
    "print(\"Squared list:\", squared_list)"
   ]
  },
  {
   "cell_type": "code",
   "execution_count": 7,
   "id": "8ae4a41a-7746-4f73-8c5f-876c8441c4b2",
   "metadata": {},
   "outputs": [
    {
     "name": "stdout",
     "output_type": "stream",
     "text": [
      "Converted dictionary: {'abc': 0, 'def': 1, 'ghi': 2, 'jkl': 3, 'mno': 4}\n"
     ]
    }
   ],
   "source": [
    "'''37. Convert a list to a dictionary where list elements become keys and their indices become values.'''\n",
    "\n",
    "l11 = ['abc', 'def', 'ghi', 'jkl', 'mno']\n",
    "\n",
    "# Convert list to dictionary using dictionary comprehension\n",
    "my_dict = {element: index for index, element in enumerate(l11)}\n",
    "\n",
    "# Print the resulting dictionary\n",
    "print(\"Converted dictionary:\", my_dict)"
   ]
  },
  {
   "cell_type": "code",
   "execution_count": 8,
   "id": "b4343fd2-5fef-41fb-9746-a8741d031b9c",
   "metadata": {},
   "outputs": [
    {
     "name": "stdout",
     "output_type": "stream",
     "text": [
      "Shuffled list: [6, 8, 10, 3, 5, 9, 1, 7, 2, 4]\n"
     ]
    }
   ],
   "source": [
    "'''38. Shuffle the elements of a list randomly.'''\n",
    "\n",
    "import random\n",
    "\n",
    "# Example list\n",
    "my_list = [1, 2, 3, 4, 5, 6, 7, 8, 9, 10]\n",
    "\n",
    "# Shuffle the list randomly\n",
    "random.shuffle(my_list)\n",
    "\n",
    "# Print the shuffled list\n",
    "print(\"Shuffled list:\", my_list)"
   ]
  },
  {
   "cell_type": "code",
   "execution_count": 10,
   "id": "01231d1e-915b-405f-9f2e-93eb5f2fff5f",
   "metadata": {},
   "outputs": [
    {
     "name": "stdout",
     "output_type": "stream",
     "text": [
      "List of the first 10 factorial numbers: [1, 1, 2, 6, 24, 120, 720, 5040, 40320, 362880]\n"
     ]
    }
   ],
   "source": [
    "'''39. Create a list of the first 10 factorial numbers.'''\n",
    "\n",
    "def factorial(n):\n",
    "    if n == 0 or n == 1:\n",
    "        return 1\n",
    "    else:\n",
    "        return n * factorial(n - 1)\n",
    "factorial_numbers = [factorial(i) for i in range(10)]\n",
    "print(\"List of the first 10 factorial numbers:\", factorial_numbers)"
   ]
  },
  {
   "cell_type": "code",
   "execution_count": 11,
   "id": "0f6ab38b-a200-4ea4-9659-8d4c0688cbc4",
   "metadata": {},
   "outputs": [
    {
     "name": "stdout",
     "output_type": "stream",
     "text": [
      "The lists have at least one common element.\n"
     ]
    }
   ],
   "source": [
    "'''40. Check if two lists have at least one element in common.'''\n",
    "\n",
    "def has_common_element(list1, list2):\n",
    "    for item in list1:\n",
    "        if item in list2:\n",
    "            return True\n",
    "    return False\n",
    "list1 = [1, 2, 3, 4, 5]\n",
    "list2 = [4, 5, 6, 7, 8]\n",
    "if has_common_element(list1, list2):\n",
    "    print(\"The lists have at least one common element.\")\n",
    "else:\n",
    "    print(\"The lists do not have any common elements.\")"
   ]
  },
  {
   "cell_type": "code",
   "execution_count": 12,
   "id": "ff812e5e-15c9-4e2e-ace4-afd8d6bd764f",
   "metadata": {},
   "outputs": [
    {
     "name": "stdout",
     "output_type": "stream",
     "text": [
      "Empty list: []\n"
     ]
    }
   ],
   "source": [
    "'''41. Remove all elements from a list.'''\n",
    "\n",
    "l12= [1, 2, 3, 4, 5]\n",
    "l12.clear()\n",
    "print(\"Empty list:\", l12)"
   ]
  },
  {
   "cell_type": "code",
   "execution_count": 13,
   "id": "ed35ada3-c1b6-42a9-995f-76ae12a0cd6c",
   "metadata": {},
   "outputs": [
    {
     "name": "stdout",
     "output_type": "stream",
     "text": [
      "List after replacing negative numbers with 0: [60, 0, 40, 0, 30, 0]\n"
     ]
    }
   ],
   "source": [
    "'''42. Replace negative numbers in a list with 0'''\n",
    "\n",
    "my_list = [60, -5, 40, -15, 30, -25]\n",
    "for i in range(len(my_list)):\n",
    "    if my_list[i] < 0:\n",
    "        my_list[i] = 0\n",
    "print(\"List after replacing negative numbers with 0:\", my_list)"
   ]
  },
  {
   "cell_type": "code",
   "execution_count": 14,
   "id": "fe738fbb-c90e-41a7-b820-5f228f748959",
   "metadata": {},
   "outputs": [
    {
     "name": "stdout",
     "output_type": "stream",
     "text": [
      "List of words: ['Hello,', 'this', 'is', 'a', 'sample', 'sentence.']\n"
     ]
    }
   ],
   "source": [
    "'''43. Convert a string into a list of words.'''\n",
    "\n",
    "str = \"Hello, this is a sample sentence.\"\n",
    "word_list = str.split()\n",
    "print(\"List of words:\", word_list)"
   ]
  },
  {
   "cell_type": "code",
   "execution_count": 15,
   "id": "7135fa45-938c-45cc-982b-034a5e0e5829",
   "metadata": {},
   "outputs": [
    {
     "name": "stdout",
     "output_type": "stream",
     "text": [
      "Converted string: Hello, this is a sample sentence.\n"
     ]
    }
   ],
   "source": [
    "'''44. Convert a list of words into a string'''\n",
    "\n",
    "word_list = [\"Hello,\", \"this\", \"is\", \"a\", \"sample\", \"sentence.\"]\n",
    "my_string = \" \".join(word_list)\n",
    "print(\"Converted string:\", my_string)"
   ]
  },
  {
   "cell_type": "code",
   "execution_count": 16,
   "id": "3fe03df6-f3ad-4d5a-ad51-3b1e19433687",
   "metadata": {},
   "outputs": [
    {
     "name": "stdout",
     "output_type": "stream",
     "text": [
      "List of the first 8 powers of 2: [1, 2, 4, 8, 16, 32, 64, 128]\n"
     ]
    }
   ],
   "source": [
    "'''45. Create a list of the first n powers of 2.'''\n",
    "\n",
    "n = 8\n",
    "power_list = [2 ** i for i in range(n)]\n",
    "print(\"List of the first\", n, \"powers of 2:\", power_list)"
   ]
  },
  {
   "cell_type": "code",
   "execution_count": 18,
   "id": "94936e53-a01c-4564-9f3e-90adb94080c6",
   "metadata": {},
   "outputs": [
    {
     "name": "stdout",
     "output_type": "stream",
     "text": [
      "Longest string: elephant\n"
     ]
    }
   ],
   "source": [
    "'''46. Find the longest string in a list of strings.'''\n",
    "\n",
    "string_list = [\"apple\", \"banana\", \"cherry\", \"date\", \"elephant\"]\n",
    "longest_string = \"\"\n",
    "for s in string_list:\n",
    "    if len(s) > len(longest_string):\n",
    "        longest_string = s\n",
    "print(\"Longest string:\", longest_string)"
   ]
  },
  {
   "cell_type": "code",
   "execution_count": 19,
   "id": "f142fe24-637c-4d3c-b5c9-dec2d3830922",
   "metadata": {},
   "outputs": [
    {
     "name": "stdout",
     "output_type": "stream",
     "text": [
      "Shortest string: date\n"
     ]
    }
   ],
   "source": [
    "'''47. Find the shortest string in a list of strings.'''\n",
    "\n",
    "shortest_string = string_list[0] \n",
    "for s in string_list:\n",
    "    if len(s) < len(shortest_string):\n",
    "        shortest_string = s\n",
    "print(\"Shortest string:\", shortest_string)"
   ]
  },
  {
   "cell_type": "code",
   "execution_count": 20,
   "id": "83797a4c-e524-4dd6-aa40-6f51f9b9675a",
   "metadata": {},
   "outputs": [
    {
     "name": "stdout",
     "output_type": "stream",
     "text": [
      "List of the first 5 triangular numbers: [1, 3, 6, 10, 15]\n"
     ]
    }
   ],
   "source": [
    "'''48. Create a list of the first n triangular numbers.'''\n",
    "\n",
    "def triangular_numbers(n):\n",
    "    return [i * (i + 1) // 2 for i in range(1, n + 1)]\n",
    "n = 5\n",
    "triangular_list = triangular_numbers(n)\n",
    "print(\"List of the first\", n, \"triangular numbers:\", triangular_list)"
   ]
  },
  {
   "cell_type": "code",
   "execution_count": 21,
   "id": "ef42f7ad-70b8-4c6b-8ba7-0113e40b2cc4",
   "metadata": {},
   "outputs": [
    {
     "name": "stdout",
     "output_type": "stream",
     "text": [
      "Main list contains the subsequence.\n"
     ]
    }
   ],
   "source": [
    "'''49. Check if a list contains another list as a subsequence.'''\n",
    "\n",
    "def is_subsequence(subsequence, main_list):\n",
    "    subseq_index = 0  \n",
    "    for element in main_list:\n",
    "        if element == subsequence[subseq_index]:\n",
    "            subseq_index += 1\n",
    "            if subseq_index == len(subsequence):\n",
    "                return True\n",
    "    return False\n",
    "main_list = [1, 2, 3, 4, 5, 6, 7, 8, 9, 10]\n",
    "subsequence = [3, 5, 8]\n",
    "if is_subsequence(subsequence, main_list):\n",
    "    print(\"Main list contains the subsequence.\")\n",
    "else:\n",
    "    print(\"Main list does not contain the subsequence.\")"
   ]
  },
  {
   "cell_type": "code",
   "execution_count": 22,
   "id": "bd5b6de0-9896-45e3-a7a1-a32a35b2d92f",
   "metadata": {},
   "outputs": [
    {
     "name": "stdout",
     "output_type": "stream",
     "text": [
      "List after swapping elements: [1, 4, 3, 2, 5]\n"
     ]
    }
   ],
   "source": [
    "'''50. Swap two elements in a list by their indices.'''\n",
    "\n",
    "my_list = [1, 2, 3, 4, 5]\n",
    "index1 = 1\n",
    "index2 = 3\n",
    "temp = my_list[index1]\n",
    "my_list[index1] = my_list[index2]\n",
    "my_list[index2] = temp\n",
    "print(\"List after swapping elements:\", my_list)"
   ]
  },
  {
   "cell_type": "code",
   "execution_count": null,
   "id": "adec00c0-9b1f-438f-b8b9-14bd54749d39",
   "metadata": {},
   "outputs": [],
   "source": []
  },
  {
   "cell_type": "code",
   "execution_count": null,
   "id": "990373f2-fb22-44cb-a4ac-9fe5284ca826",
   "metadata": {},
   "outputs": [],
   "source": []
  },
  {
   "cell_type": "code",
   "execution_count": null,
   "id": "c54aed22-bd06-4ced-b9e3-5f941aac0224",
   "metadata": {},
   "outputs": [],
   "source": []
  },
  {
   "cell_type": "code",
   "execution_count": null,
   "id": "1cbc0229-b972-4578-9f5b-2ca2cf9e48ef",
   "metadata": {},
   "outputs": [],
   "source": []
  },
  {
   "cell_type": "code",
   "execution_count": null,
   "id": "2a6379b8-2030-4299-b20a-d51b6959b381",
   "metadata": {},
   "outputs": [],
   "source": []
  },
  {
   "cell_type": "code",
   "execution_count": null,
   "id": "0644e6f3-44d4-4b1c-b271-cb189e4e64ec",
   "metadata": {},
   "outputs": [],
   "source": []
  },
  {
   "cell_type": "code",
   "execution_count": null,
   "id": "3d76d529-02d1-4893-9ec8-395d422e0165",
   "metadata": {},
   "outputs": [],
   "source": []
  }
 ],
 "metadata": {
  "kernelspec": {
   "display_name": "Python 3 (ipykernel)",
   "language": "python",
   "name": "python3"
  },
  "language_info": {
   "codemirror_mode": {
    "name": "ipython",
    "version": 3
   },
   "file_extension": ".py",
   "mimetype": "text/x-python",
   "name": "python",
   "nbconvert_exporter": "python",
   "pygments_lexer": "ipython3",
   "version": "3.10.8"
  }
 },
 "nbformat": 4,
 "nbformat_minor": 5
}
