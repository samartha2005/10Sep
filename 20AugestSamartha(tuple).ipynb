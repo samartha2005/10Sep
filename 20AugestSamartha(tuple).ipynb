{
 "cells": [
  {
   "cell_type": "code",
   "execution_count": null,
   "id": "c824dd2d-53c3-47dc-bea6-6c47c6c6399e",
   "metadata": {},
   "outputs": [],
   "source": [
    "                      # Tuple Based Practice Problem :"
   ]
  },
  {
   "cell_type": "code",
   "execution_count": 2,
   "id": "d7719716-49ff-490d-b9dd-a0462f1c121e",
   "metadata": {},
   "outputs": [
    {
     "data": {
      "text/plain": [
       "(1, 2, 3, 4, 'Hello')"
      ]
     },
     "execution_count": 2,
     "metadata": {},
     "output_type": "execute_result"
    }
   ],
   "source": [
    "'''1.Create a tuple with integers from 1 to 5.'''\n",
    "\n",
    "t1 = (1,2,3,4,'Hello')"
   ]
  },
  {
   "cell_type": "code",
   "execution_count": 3,
   "id": "ab6066a6-8090-42ae-86f2-110fe7463bba",
   "metadata": {},
   "outputs": [
    {
     "data": {
      "text/plain": [
       "tuple"
      ]
     },
     "execution_count": 3,
     "metadata": {},
     "output_type": "execute_result"
    }
   ],
   "source": [
    "type(t1)"
   ]
  },
  {
   "cell_type": "code",
   "execution_count": 4,
   "id": "ecd6475e-462b-436f-9920-fd747b480552",
   "metadata": {},
   "outputs": [],
   "source": [
    "# Below Tuple for 2 to 5\n",
    "\n",
    "t2 = (1,2,3,4,\"Samu\",\"Hello\",4,66,4,4,4)"
   ]
  },
  {
   "cell_type": "code",
   "execution_count": 5,
   "id": "f2acbd9e-8580-4ed5-9a43-e3eeae1fa3a8",
   "metadata": {},
   "outputs": [
    {
     "data": {
      "text/plain": [
       "4"
      ]
     },
     "execution_count": 5,
     "metadata": {},
     "output_type": "execute_result"
    }
   ],
   "source": [
    "'''2. Access the third element of a tuple.'''\n",
    "\n",
    "t2[3]"
   ]
  },
  {
   "cell_type": "code",
   "execution_count": null,
   "id": "cfebcdb7-2f3a-42b0-a2ae-b39083060f96",
   "metadata": {},
   "outputs": [],
   "source": [
    "'''3. Find the length of a tuple without using the `len()` function.'''\n"
   ]
  },
  {
   "cell_type": "code",
   "execution_count": 6,
   "id": "67940dd6-a70a-4ca1-b5ed-f2acb414aac4",
   "metadata": {},
   "outputs": [
    {
     "data": {
      "text/plain": [
       "5"
      ]
     },
     "execution_count": 6,
     "metadata": {},
     "output_type": "execute_result"
    }
   ],
   "source": [
    "'''4. Count the occurrences of an element in a tuple.'''\n",
    "\n",
    "t2.count(4)"
   ]
  },
  {
   "cell_type": "code",
   "execution_count": 7,
   "id": "8bdcd109-6ce3-4a04-9312-46eec258e822",
   "metadata": {},
   "outputs": [
    {
     "data": {
      "text/plain": [
       "0"
      ]
     },
     "execution_count": 7,
     "metadata": {},
     "output_type": "execute_result"
    }
   ],
   "source": [
    "'''5. Find the index of the first occurrence of an element in a tuple.'''\n",
    "\n",
    "t2.index(1)"
   ]
  },
  {
   "cell_type": "code",
   "execution_count": 3,
   "id": "c1d21db3-0429-4344-9b01-6e110e5d575f",
   "metadata": {},
   "outputs": [
    {
     "name": "stdout",
     "output_type": "stream",
     "text": [
      "60 exists in the tuple.\n"
     ]
    }
   ],
   "source": [
    "'''6. Check if an element exists in a tuple.'''\n",
    "\n",
    "t5 = (10, 20, 30, 40, 50,60)\n",
    "element_to_check = 60\n",
    "if element_to_check in t5:\n",
    "    print(f\"{element_to_check} exists in the tuple.\")\n",
    "else:\n",
    "    print(f\"{element_to_check} does not exist in the tuple.\")"
   ]
  },
  {
   "cell_type": "code",
   "execution_count": 4,
   "id": "6680b2d4-4dd8-4032-93c5-1b3c5fb3a14c",
   "metadata": {},
   "outputs": [
    {
     "name": "stdout",
     "output_type": "stream",
     "text": [
      "Tuple: (10, 20, 30, 40, 50)\n",
      "List: [10, 20, 30, 40, 50]\n"
     ]
    }
   ],
   "source": [
    "'''7. Convert a tuple to a list.'''\n",
    "\n",
    "t6 = (10, 20, 30, 40, 50)\n",
    "my_list = list(t6)\n",
    "print(\"Tuple:\", t6)\n",
    "print(\"List:\", my_list)"
   ]
  },
  {
   "cell_type": "code",
   "execution_count": 6,
   "id": "9afa48f0-ed50-45c6-b3c8-13c95eab1a3d",
   "metadata": {},
   "outputs": [
    {
     "name": "stdout",
     "output_type": "stream",
     "text": [
      "List: [10, 20, 30, 40, 50]\n",
      "Tuple: (10, 20, 30, 40, 50)\n"
     ]
    }
   ],
   "source": [
    "'''8. Convert a list to a tuple.'''\n",
    "\n",
    "l1 = [10, 20, 30, 40, 50]\n",
    "my_tuple = tuple(l1)\n",
    "print(\"List:\", l1)\n",
    "print(\"Tuple:\", my_tuple)"
   ]
  },
  {
   "cell_type": "code",
   "execution_count": 7,
   "id": "b34aae89-6ca8-4794-80c3-0397e034641d",
   "metadata": {},
   "outputs": [
    {
     "name": "stdout",
     "output_type": "stream",
     "text": [
      "var1: 10\n",
      "var2: 20\n",
      "var3: 30\n"
     ]
    }
   ],
   "source": [
    "'''9. Unpack the elements of a tuple into variables.'''\n",
    "\n",
    "t7 = (10, 20, 30)\n",
    "var1, var2, var3 = t7\n",
    "print(\"var1:\", var1)\n",
    "print(\"var2:\", var2)\n",
    "print(\"var3:\", var3)"
   ]
  },
  {
   "cell_type": "code",
   "execution_count": 9,
   "id": "7f32d797-ccfe-4761-84da-6621247c3de9",
   "metadata": {},
   "outputs": [
    {
     "name": "stdout",
     "output_type": "stream",
     "text": [
      "Tuple of even numbers: (2, 4, 6, 8, 10)\n"
     ]
    }
   ],
   "source": [
    "'''10. Create a tuple of even numbers from 1 to 10.'''\n",
    "\n",
    "e = [num for num in range(2, 11, 2)] \n",
    "e = tuple(e)\n",
    "print(\"Tuple of even numbers:\", e)"
   ]
  },
  {
   "cell_type": "code",
   "execution_count": 10,
   "id": "aad3b0d6-c8ff-4cce-b726-1d0d48eea0d5",
   "metadata": {},
   "outputs": [
    {
     "name": "stdout",
     "output_type": "stream",
     "text": [
      "Tuple of even numbers: (2, 4, 6, 8, 10)\n"
     ]
    }
   ],
   "source": [
    "'''11. Create a tuple of odd numbers from 1 to 10.'''\n",
    "\n",
    "e = [num for num in range(2, 11, 2)] \n",
    "e = tuple(e)\n",
    "print(\"Tuple of even numbers:\", e)"
   ]
  },
  {
   "cell_type": "code",
   "execution_count": 12,
   "id": "fbefa79e-18f3-4374-bb26-c82b685c815b",
   "metadata": {},
   "outputs": [
    {
     "name": "stdout",
     "output_type": "stream",
     "text": [
      "Concatenated tuple: (1, 2, 3, 4, 5, 6)\n"
     ]
    }
   ],
   "source": [
    "'''12. Concatenate two tuples.'''\n",
    "\n",
    "t1 = (1, 2, 3)\n",
    "t2 = (4, 5, 6)\n",
    "concatenated_tuple = t1 + t2\n",
    "print(\"Concatenated tuple:\", concatenated_tuple)"
   ]
  },
  {
   "cell_type": "code",
   "execution_count": 13,
   "id": "cd9a829b-ae12-4855-a3f3-fc81fbbde7d5",
   "metadata": {},
   "outputs": [
    {
     "name": "stdout",
     "output_type": "stream",
     "text": [
      "Repeated tuple: (1, 2, 3, 1, 2, 3, 1, 2, 3)\n"
     ]
    }
   ],
   "source": [
    "'''13. Repeat a tuple three times.'''\n",
    "\n",
    "o = (1, 2, 3)\n",
    "r = o * 3\n",
    "print(\"Repeated tuple:\", r)"
   ]
  },
  {
   "cell_type": "code",
   "execution_count": 14,
   "id": "26a529e5-ddee-4825-a4de-b92555a0a92b",
   "metadata": {},
   "outputs": [
    {
     "name": "stdout",
     "output_type": "stream",
     "text": [
      "The empty tuple is empty.\n",
      "The non empty tuple is not empty.\n"
     ]
    }
   ],
   "source": [
    "''' 14. Check if a tuple is empty.'''\n",
    "\n",
    "et = ()\n",
    "net = (1, 2, 3)\n",
    "if not et:\n",
    "    print(\"The empty tuple is empty.\")\n",
    "else:\n",
    "    print(\"The empty tuple is not empty.\")\n",
    "\n",
    "if not net:\n",
    "    print(\"The non empty tuple is empty.\")\n",
    "else:\n",
    "    print(\"The non empty tuple is not empty.\")"
   ]
  },
  {
   "cell_type": "code",
   "execution_count": 16,
   "id": "c6a17a2a-a924-4789-ad94-411a1975c71b",
   "metadata": {},
   "outputs": [
    {
     "name": "stdout",
     "output_type": "stream",
     "text": [
      "Nested tuple: ((1, 2, 3), ('a', 'b', 'c'), (True, False))\n"
     ]
    }
   ],
   "source": [
    "'''15. Create a nested tuple.'''\n",
    "\n",
    "nt = ((1, 2, 3), ('a', 'b', 'c'), (True, False))\n",
    "print(\"Nested tuple:\", nt)"
   ]
  },
  {
   "cell_type": "code",
   "execution_count": 18,
   "id": "ced422bf-73a4-476e-b00d-4f7111260e3e",
   "metadata": {},
   "outputs": [
    {
     "name": "stdout",
     "output_type": "stream",
     "text": [
      "First element of the nested tuple: (1, 2, 3)\n"
     ]
    }
   ],
   "source": [
    "'''16. Access the first element of a nested tuple.'''\n",
    "\n",
    "nt = ((1, 2, 3), ('a', 'b', 'c'), (True, False))\n",
    "first_element = nt[0]\n",
    "print(\"First element of the nested tuple:\", first_element)"
   ]
  },
  {
   "cell_type": "code",
   "execution_count": 19,
   "id": "80d0ad23-545c-4393-801e-eda4fd39fc20",
   "metadata": {},
   "outputs": [
    {
     "name": "stdout",
     "output_type": "stream",
     "text": [
      "Single element tuple: (42,)\n"
     ]
    }
   ],
   "source": [
    "'''17. Create a tuple with a single element.'''\n",
    "\n",
    "s = (42,)  \n",
    "print(\"Single element tuple:\", s)"
   ]
  },
  {
   "cell_type": "code",
   "execution_count": 20,
   "id": "fcaa20a7-7231-47c7-b223-0b91d20563b8",
   "metadata": {},
   "outputs": [
    {
     "name": "stdout",
     "output_type": "stream",
     "text": [
      "tuple1 == tuple2: False\n",
      "tuple1 != tuple2: True\n",
      "tuple1 < tuple2: True\n",
      "tuple1 <= tuple2: True\n",
      "tuple1 > tuple2: False\n",
      "tuple1 >= tuple2: False\n"
     ]
    }
   ],
   "source": [
    "'''18. Compare two tuples.'''\n",
    "\n",
    "tuple1 = (1, 2, 3)\n",
    "tuple2 = (1, 2, 3,4,5,7)\n",
    "print(\"tuple1 == tuple2:\", tuple1 == tuple2)  \n",
    "print(\"tuple1 != tuple2:\", tuple1 != tuple2)  \n",
    "print(\"tuple1 < tuple2:\", tuple1 < tuple2)    \n",
    "print(\"tuple1 <= tuple2:\", tuple1 <= tuple2)\n",
    "print(\"tuple1 > tuple2:\", tuple1 > tuple2)    \n",
    "print(\"tuple1 >= tuple2:\", tuple1 >= tuple2)"
   ]
  },
  {
   "cell_type": "code",
   "execution_count": 22,
   "id": "d00fa68e-ca9b-4048-9add-a8e7cb62b0af",
   "metadata": {},
   "outputs": [
    {
     "data": {
      "text/plain": [
       "'19. Delete a tuple.'"
      ]
     },
     "execution_count": 22,
     "metadata": {},
     "output_type": "execute_result"
    }
   ],
   "source": [
    "'''19. Delete a tuple.'''\n"
   ]
  },
  {
   "cell_type": "code",
   "execution_count": 23,
   "id": "477bc150-eaea-4263-948e-59b0abf05668",
   "metadata": {},
   "outputs": [
    {
     "name": "stdout",
     "output_type": "stream",
     "text": [
      "Sliced tuple: (3, 4, 5, 6)\n"
     ]
    }
   ],
   "source": [
    "'''20. Slice a tuple.'''\n",
    "\n",
    "my_tuple = (1, 2, 3, 4, 5, 6, 7, 8, 9, 10)\n",
    "sliced_tuple = my_tuple[2:6] \n",
    "print(\"Sliced tuple:\", sliced_tuple)"
   ]
  },
  {
   "cell_type": "code",
   "execution_count": 24,
   "id": "fed44cb3-1b4e-4c85-b633-1b279ff2dfd8",
   "metadata": {},
   "outputs": [
    {
     "name": "stdout",
     "output_type": "stream",
     "text": [
      "Maximum value: 45\n"
     ]
    }
   ],
   "source": [
    "'''21. Find the maximum value in a tuple'''\n",
    "\n",
    "my_tuple = (10, 20, 5, 45, 30)\n",
    "max_value = max(my_tuple)\n",
    "print(\"Maximum value:\", max_value)"
   ]
  },
  {
   "cell_type": "code",
   "execution_count": 25,
   "id": "2e262503-91da-4e19-b07e-23f9b7a7d2a2",
   "metadata": {},
   "outputs": [
    {
     "name": "stdout",
     "output_type": "stream",
     "text": [
      "min value element :  bio\n",
      "min value element :  200\n"
     ]
    }
   ],
   "source": [
    "'''22. Find the minimum value in a tuple.'''\n",
    "\n",
    "tuple1, tuple2 = ('maths', 'che', 'phy', 'bio'), (456, 700, 200)\n",
    "print (\"min value element : \", min(tuple1))\n",
    "print (\"min value element : \", min(tuple2))"
   ]
  },
  {
   "cell_type": "code",
   "execution_count": 26,
   "id": "5e9d8bb3-075a-4cfb-bfcc-49391fdf24a1",
   "metadata": {},
   "outputs": [
    {
     "name": "stdout",
     "output_type": "stream",
     "text": [
      "Tuple of characters: ('H', 'e', 'l', 'l', 'o', ',', ' ', 'W', 'o', 'r', 'l', 'd', '!')\n"
     ]
    }
   ],
   "source": [
    "'''23. Convert a string to a tuple of characters.'''\n",
    "\n",
    "my_string = \"Hello, World!\"\n",
    "tuple_of_characters = tuple(my_string)\n",
    "print(\"Tuple of characters:\", tuple_of_characters)"
   ]
  },
  {
   "cell_type": "code",
   "execution_count": 27,
   "id": "132a096b-45d6-4030-92f7-cbfd76c0dd16",
   "metadata": {},
   "outputs": [
    {
     "name": "stdout",
     "output_type": "stream",
     "text": [
      "String from tuple: Hello World!\n"
     ]
    }
   ],
   "source": [
    "'''24. Convert a tuple of characters to a string.'''\n",
    "\n",
    "tuple_of_characters = ('H', 'e', 'l', 'l', 'o', ' ', 'W', 'o', 'r', 'l', 'd', '!')\n",
    "string_from_tuple = ''.join(tuple_of_characters)\n",
    "print(\"String from tuple:\", string_from_tuple)"
   ]
  },
  {
   "cell_type": "code",
   "execution_count": 28,
   "id": "07bb4ae6-94a4-41c1-8f1f-2241cecfeec3",
   "metadata": {},
   "outputs": [
    {
     "name": "stdout",
     "output_type": "stream",
     "text": [
      "(1, 'hello', 3.14, True)\n"
     ]
    }
   ],
   "source": [
    "'''25. Create a tuple from multiple data types.'''\n",
    "\n",
    "mixed_tuple = (1, \"hello\", 3.14, True)\n",
    "print(mixed_tuple)"
   ]
  },
  {
   "cell_type": "code",
   "execution_count": 30,
   "id": "eda83df1-99f3-475b-ab89-224b0603f0b5",
   "metadata": {},
   "outputs": [
    {
     "name": "stdout",
     "output_type": "stream",
     "text": [
      "tuple1 and tuple2 are identical: True\n",
      "tuple1 and tuple3 are identical: False\n"
     ]
    }
   ],
   "source": [
    "'''26. Check if two tuples are identical'''\n",
    "\n",
    "tuple1 = (1, 2, 3)\n",
    "tuple2 = (1, 2, 3)\n",
    "tuple3 = (4, 5, 6)\n",
    "are_identical1 = tuple1 == tuple2\n",
    "are_identical2 = tuple1 == tuple3\n",
    "print(\"tuple1 and tuple2 are identical:\", are_identical1)\n",
    "print(\"tuple1 and tuple3 are identical:\", are_identical2)"
   ]
  },
  {
   "cell_type": "code",
   "execution_count": 2,
   "id": "7e9df434-c34e-4361-94b6-ec3caca86ca1",
   "metadata": {},
   "outputs": [
    {
     "name": "stdout",
     "output_type": "stream",
     "text": [
      "List of strings: ['10', '20', '30', '40', '50']\n"
     ]
    }
   ],
   "source": [
    "'''27. Sort the elements of a tuple.'''\n",
    "\n",
    "integer_list = [10, 20, 30, 40, 50]\n",
    "string_list = [str(x) for x in integer_list]\n",
    "print(\"List of strings:\", string_list)"
   ]
  },
  {
   "cell_type": "code",
   "execution_count": 5,
   "id": "f940bd39-a240-4576-a15e-289f98e2fff8",
   "metadata": {},
   "outputs": [
    {
     "name": "stdout",
     "output_type": "stream",
     "text": [
      "Tuple of strings: ('1', '2', '3', '4', '5')\n"
     ]
    }
   ],
   "source": [
    "'''28. Convert a tuple of integers to a tuple of strings.'''\n",
    "\n",
    "tuple_of_integers = (1, 2, 3, 4, 5)\n",
    "tuple_of_strings = tuple(str(item) for item in tuple_of_integers)\n",
    "print(\"Tuple of strings:\", tuple_of_strings)"
   ]
  },
  {
   "cell_type": "code",
   "execution_count": 6,
   "id": "bc9ef954-3f56-4b71-9b97-7b9aa3d7a696",
   "metadata": {},
   "outputs": [
    {
     "name": "stdout",
     "output_type": "stream",
     "text": [
      "Tuple of integers: (10, 20, 30, 40, 50)\n"
     ]
    }
   ],
   "source": [
    "'''29. Convert a tuple of strings to a tuple of integers.'''\n",
    "\n",
    "tuple_of_strings = ('10', '20', '30', '40', '50')\n",
    "tuple_of_integers = tuple(int(item) for item in tuple_of_strings)\n",
    "print(\"Tuple of integers:\", tuple_of_integers)"
   ]
  },
  {
   "cell_type": "code",
   "execution_count": 7,
   "id": "a2f2185a-bbae-4f51-a1c9-0f0d326072ef",
   "metadata": {},
   "outputs": [
    {
     "name": "stdout",
     "output_type": "stream",
     "text": [
      "Merged tuple: (1, 2, 3, 4, 5, 6)\n"
     ]
    }
   ],
   "source": [
    "'''30. Merge two tuples.'''\n",
    "\n",
    "tuple1 = (1, 2, 3)\n",
    "tuple2 = (4, 5, 6)\n",
    "merged_tuple = tuple1 + tuple2\n",
    "print(\"Merged tuple:\", merged_tuple)"
   ]
  },
  {
   "cell_type": "code",
   "execution_count": 8,
   "id": "762e7b69-bb2f-4b98-bb46-3ec2f6c8f5b7",
   "metadata": {},
   "outputs": [
    {
     "name": "stdout",
     "output_type": "stream",
     "text": [
      "Flattened tuple: (1, 2, 3, 4, 5, 6, 7, 8)\n"
     ]
    }
   ],
   "source": [
    "'''31. Flatten a nested tuple.'''\n",
    "\n",
    "def flatten_tuple(nested_tuple):\n",
    "    flattened = []\n",
    "    for item in nested_tuple:\n",
    "        if isinstance(item, tuple):\n",
    "            flattened.extend(flatten_tuple(item))\n",
    "        else:\n",
    "            flattened.append(item)\n",
    "    return flattened\n",
    "nested_tuple = ((1, 2), (3, 4, 5), (6, (7, 8)))\n",
    "flattened_tuple = tuple(flatten_tuple(nested_tuple))\n",
    "print(\"Flattened tuple:\", flattened_tuple)"
   ]
  },
  {
   "cell_type": "code",
   "execution_count": 9,
   "id": "245be0e4-afb1-41cf-965d-f97014fa852d",
   "metadata": {},
   "outputs": [
    {
     "name": "stdout",
     "output_type": "stream",
     "text": [
      "Tuple of the first 5 prime numbers: (2, 3, 5, 7, 11)\n"
     ]
    }
   ],
   "source": [
    "'''32. Create a tuple of the first 5 prime numbers.'''\n",
    "\n",
    "def is_prime(num):\n",
    "    if num <= 1:\n",
    "        return False\n",
    "    for i in range(2, int(num ** 0.5) + 1):\n",
    "        if num % i == 0:\n",
    "            return False\n",
    "    return True\n",
    "prime_numbers_list = [num for num in range(2, 100) if is_prime(num)][:5]\n",
    "prime_numbers_tuple = tuple(prime_numbers_list)\n",
    "print(\"Tuple of the first 5 prime numbers:\", prime_numbers_tuple)"
   ]
  },
  {
   "cell_type": "code",
   "execution_count": 10,
   "id": "a7363be3-92b3-4569-a0b7-da099e73c0f8",
   "metadata": {},
   "outputs": [
    {
     "name": "stdout",
     "output_type": "stream",
     "text": [
      "palindrome_tuple is a palindrome: True\n"
     ]
    }
   ],
   "source": [
    "'''33. Check if a tuple is a palindrome.'''\n",
    "\n",
    "def is_palindrome(tup):\n",
    "    return tup == tup[::-1]\n",
    "palindrome_tuple = (1, 2, 3, 2, 1)\n",
    "is_palindrome1 = is_palindrome(palindrome_tuple)\n",
    "print(\"palindrome_tuple is a palindrome:\", is_palindrome1)"
   ]
  },
  {
   "cell_type": "code",
   "execution_count": 12,
   "id": "6ba4a16f-87af-4592-9633-5b5de11695ca",
   "metadata": {},
   "outputs": [
    {
     "name": "stdout",
     "output_type": "stream",
     "text": [
      "Tuple of squares: (1, 4, 9, 16, 25)\n"
     ]
    }
   ],
   "source": [
    "'''34. Create a tuple of squares of numbers from 1 to 5.'''\n",
    "\n",
    "squares_tuple = tuple(x ** 2 for x in range(1, 6))\n",
    "print(\"Tuple of squares:\", squares_tuple)"
   ]
  },
  {
   "cell_type": "code",
   "execution_count": 16,
   "id": "2bb7ee03-7a44-49b3-a954-ac2074e887a3",
   "metadata": {},
   "outputs": [
    {
     "name": "stdout",
     "output_type": "stream",
     "text": [
      "Filtered tuple: (1, 3, 5, 7, 9)\n"
     ]
    }
   ],
   "source": [
    "'''35. Filter out all even numbers from a tuple.'''\n",
    "\n",
    "criginal_tuple = (1, 2, 3, 4, 5, 6, 7, 8, 9, 10)\n",
    "filtered_tuple = tuple(num for num in original_tuple if num % 2 != 0)\n",
    "print(\"Filtered tuple:\", filtered_tuple)"
   ]
  },
  {
   "cell_type": "code",
   "execution_count": 18,
   "id": "2c98d31f-716f-4bbb-939b-e6e1dc9893f2",
   "metadata": {},
   "outputs": [
    {
     "name": "stdout",
     "output_type": "stream",
     "text": [
      "Doubled tuple: (2, 4, 6, 8, 10)\n"
     ]
    }
   ],
   "source": [
    "'''36. Multiply all elements in a tuple by 2.'''\n",
    "\n",
    "original_tuple = (1, 2, 3, 4, 5)\n",
    "doubled_tuple = tuple(num * 2 for num in original_tuple)\n",
    "print(\"Doubled tuple:\", doubled_tuple)"
   ]
  },
  {
   "cell_type": "code",
   "execution_count": 19,
   "id": "4e4ecb1e-be1e-4a77-bf6d-f74ebce73fc8",
   "metadata": {},
   "outputs": [
    {
     "name": "stdout",
     "output_type": "stream",
     "text": [
      "Random tuple: (21, 48, 3, 32, 7, 16, 6, 36, 81, 35)\n"
     ]
    }
   ],
   "source": [
    "'''37. Create a tuple of random numbers.'''\n",
    "\n",
    "import random\n",
    "random_tuple = tuple(random.randint(1, 100) for _ in range(10))\n",
    "print(\"Random tuple:\", random_tuple)"
   ]
  },
  {
   "cell_type": "code",
   "execution_count": 20,
   "id": "e262104a-6e6b-4783-9412-b49457e6cadb",
   "metadata": {},
   "outputs": [
    {
     "name": "stdout",
     "output_type": "stream",
     "text": [
      "sorted_tuple is sorted: True\n"
     ]
    }
   ],
   "source": [
    "'''38. Check if a tuple is sorted.'''\n",
    "\n",
    "def is_sorted(tup):\n",
    "    for i in range(len(tup) - 1):\n",
    "        if tup[i] > tup[i + 1]:\n",
    "            return False\n",
    "    return True\n",
    "sorted_tuple = (1, 2, 3, 4, 5)\n",
    "is_sorted1 = is_sorted(sorted_tuple)\n",
    "print(\"sorted_tuple is sorted:\", is_sorted1)"
   ]
  },
  {
   "cell_type": "code",
   "execution_count": 21,
   "id": "baebfd5c-1465-4a96-bcd8-4d749bfcd423",
   "metadata": {},
   "outputs": [
    {
     "name": "stdout",
     "output_type": "stream",
     "text": [
      "(3, 4, 5, 1, 2)\n"
     ]
    }
   ],
   "source": [
    "'''39. Rotate a tuple to the left by `n` positions.'''\n",
    "\n",
    "def rotate_tuple_left(tup, n):\n",
    "    n = n % len(tup)  \n",
    "    rotated_tuple = tup[n:] + tup[:n]  \n",
    "    return rotated_tuple\n",
    "my_tuple = (1, 2, 3, 4, 5)\n",
    "n_positions = 2\n",
    "result = rotate_tuple_left(my_tuple, n_positions)\n",
    "print(result)"
   ]
  },
  {
   "cell_type": "code",
   "execution_count": 22,
   "id": "cd3eff24-0626-4851-89c5-bea2156b1169",
   "metadata": {},
   "outputs": [
    {
     "name": "stdout",
     "output_type": "stream",
     "text": [
      "(4, 5, 1, 2, 3)\n"
     ]
    }
   ],
   "source": [
    "'''40. Rotate a tuple to the right by `n` positions.'''\n",
    "\n",
    "def rotate_tuple_right(tup, n):\n",
    "    n = n % len(tup)  \n",
    "    rotated_tuple = tup[-n:] + tup[:-n] \n",
    "    return rotated_tuple\n",
    "my_tuple = (1, 2, 3, 4, 5)\n",
    "n_positions = 2\n",
    "result = rotate_tuple_right(my_tuple, n_positions)\n",
    "print(result)"
   ]
  },
  {
   "cell_type": "code",
   "execution_count": 23,
   "id": "f0981c4d-5a21-4fe8-a27d-9bb3927de661",
   "metadata": {},
   "outputs": [
    {
     "name": "stdout",
     "output_type": "stream",
     "text": [
      "(0, 1, 1, 2, 3)\n"
     ]
    }
   ],
   "source": [
    "'''41. Create a tuple of the first 5 Fibonacci numbers.'''\n",
    "\n",
    "def generate_fibonacci(n):\n",
    "    fibonacci = [0, 1]  \n",
    "    while len(fibonacci) < n: \n",
    "        next_number = fibonacci[-1] + fibonacci[-2]  \n",
    "        fibonacci.append(next_number) \n",
    "    return tuple(fibonacci) \n",
    "fibonacci_tuple = generate_fibonacci(5)\n",
    "print(fibonacci_tuple)"
   ]
  },
  {
   "cell_type": "code",
   "execution_count": 24,
   "id": "72c3b925-943b-4e9c-b3eb-8d67306c4b47",
   "metadata": {},
   "outputs": [
    {
     "name": "stdin",
     "output_type": "stream",
     "text": [
      "Enter elements separated by commas:  s,a,m,a,r,t,h,a\n"
     ]
    },
    {
     "name": "stdout",
     "output_type": "stream",
     "text": [
      "User input tuple: ('s', 'a', 'm', 'a', 'r', 't', 'h', 'a')\n"
     ]
    }
   ],
   "source": [
    "'''42. Create a tuple from user input.'''\n",
    "\n",
    "input_str = input(\"Enter elements separated by commas: \")\n",
    "input_list = input_str.split(',')\n",
    "user_tuple = tuple(input_list)\n",
    "print(\"User input tuple:\", user_tuple)"
   ]
  },
  {
   "cell_type": "code",
   "execution_count": 25,
   "id": "511be467-a8cd-441f-b8e8-e916dad0bd0b",
   "metadata": {},
   "outputs": [
    {
     "name": "stdout",
     "output_type": "stream",
     "text": [
      "Swapped tuple: (1, 4, 3, 2, 5)\n"
     ]
    }
   ],
   "source": [
    "'''43. Swap two elements in a tuple.'''\n",
    "\n",
    "my_tuple = (1, 2, 3, 4, 5)\n",
    "index1 = 1\n",
    "index2 = 3\n",
    "swapped_tuple = tuple(\n",
    "    my_tuple[i] if i not in (index1, index2) else\n",
    "    my_tuple[index2] if i == index1 else\n",
    "    my_tuple[index1]\n",
    "    for i in range(len(my_tuple))\n",
    ")\n",
    "\n",
    "print(\"Swapped tuple:\", swapped_tuple)"
   ]
  },
  {
   "cell_type": "code",
   "execution_count": 26,
   "id": "532fa40e-61fd-459f-bef9-6aca1185477a",
   "metadata": {},
   "outputs": [
    {
     "name": "stdout",
     "output_type": "stream",
     "text": [
      "Reversed tuple: (5, 4, 3, 2, 1)\n"
     ]
    }
   ],
   "source": [
    "''' 44. Reverse the elements of a tuple.'''\n",
    "\n",
    "my_tuple = (1, 2, 3, 4, 5)\n",
    "reversed_tuple = my_tuple[::-1]\n",
    "print(\"Reversed tuple:\", reversed_tuple)"
   ]
  },
  {
   "cell_type": "code",
   "execution_count": 27,
   "id": "ba807166-2cf5-4267-9a7c-47e5a109f3b9",
   "metadata": {},
   "outputs": [
    {
     "name": "stdout",
     "output_type": "stream",
     "text": [
      "Tuple of the first 5 powers of 2: (1, 2, 4, 8, 16)\n"
     ]
    }
   ],
   "source": [
    "'''45. Create a tuple of the first `n` powers of 2.'''\n",
    "\n",
    "n = 5\n",
    "powers_of_2_tuple = tuple(2 ** i for i in range(n))\n",
    "print(\"Tuple of the first\", n, \"powers of 2:\", powers_of_2_tuple)"
   ]
  },
  {
   "cell_type": "code",
   "execution_count": 28,
   "id": "abd019fc-4352-4648-aee5-3250a815d08d",
   "metadata": {},
   "outputs": [
    {
     "name": "stdout",
     "output_type": "stream",
     "text": [
      "Longest string: watermelon\n"
     ]
    }
   ],
   "source": [
    "'''46. Find the longest string in a tuple of strings.'''\n",
    "\n",
    "string_tuple = (\"apple\", \"banana\", \"grape\", \"kiwi\", \"watermelon\")\n",
    "longest_string = max(string_tuple, key=len)\n",
    "print(\"Longest string:\", longest_string)"
   ]
  },
  {
   "cell_type": "code",
   "execution_count": 29,
   "id": "8e9e8114-5d67-40b3-89d2-7df6c95691f8",
   "metadata": {},
   "outputs": [
    {
     "name": "stdout",
     "output_type": "stream",
     "text": [
      "Shortest string: kiwi\n"
     ]
    }
   ],
   "source": [
    "'''47. Find the shortest string in a tuple of strings.'''\n",
    "\n",
    "string_tuple = (\"apple\", \"banana\", \"grape\", \"kiwi\", \"watermelon\")\n",
    "shortest_string = min(string_tuple, key=len)\n",
    "print(\"Shortest string:\", shortest_string)"
   ]
  },
  {
   "cell_type": "code",
   "execution_count": 30,
   "id": "e6fc6075-1e7d-48ba-9f85-cc3ba59843d5",
   "metadata": {},
   "outputs": [
    {
     "name": "stdout",
     "output_type": "stream",
     "text": [
      "Tuple of the first 5 triangular numbers: (1, 3, 6, 10, 15)\n"
     ]
    }
   ],
   "source": [
    "''' 48. Create a tuple of the first `n` triangular numbers.'''\n",
    "\n",
    "n = 5\n",
    "triangular_numbers_tuple = tuple((i * (i + 1)) // 2 for i in range(1, n + 1))\n",
    "print(\"Tuple of the first\", n, \"triangular numbers:\", triangular_numbers_tuple)"
   ]
  },
  {
   "cell_type": "code",
   "execution_count": 31,
   "id": "df307ee1-4789-4303-bb6c-7aaa9c5fd2ef",
   "metadata": {},
   "outputs": [
    {
     "name": "stdout",
     "output_type": "stream",
     "text": [
      "Main tuple contains subsequence tuple: True\n"
     ]
    }
   ],
   "source": [
    "''' 49. Check if a tuple contains another tuple as a subsequence.'''\n",
    "\n",
    "def contains_subsequence(main_tuple, sub_tuple):\n",
    "    sub_length = len(sub_tuple)\n",
    "    for i in range(len(main_tuple) - sub_length + 1):\n",
    "        if main_tuple[i:i+sub_length] == sub_tuple:\n",
    "            return True\n",
    "    return False\n",
    "main_tuple = (1, 2, 3, 4, 5, 6, 7, 8, 9)\n",
    "sub_tuple = (3, 4, 5)\n",
    "contains_subseq = contains_subsequence(main_tuple, sub_tuple)\n",
    "print(\"Main tuple contains subsequence tuple:\", contains_subseq)"
   ]
  },
  {
   "cell_type": "code",
   "execution_count": 32,
   "id": "ff852011-13bf-4c5e-92d1-815b5b534768",
   "metadata": {},
   "outputs": [
    {
     "name": "stdout",
     "output_type": "stream",
     "text": [
      "Tuple of alternating 1s and 0s: (0, 1, 0, 1, 0, 1, 0, 1, 0, 1)\n"
     ]
    }
   ],
   "source": [
    "'''50. Create a tuple of alternating 1s and 0s of length `n`.'''\n",
    "\n",
    "n = 10\n",
    "alternating_tuple = tuple(i % 2 for i in range(n))\n",
    "print(\"Tuple of alternating 1s and 0s:\", alternating_tuple)"
   ]
  },
  {
   "cell_type": "code",
   "execution_count": null,
   "id": "3d54d37a-e98c-405f-87d9-6b8ab45d5f74",
   "metadata": {},
   "outputs": [],
   "source": []
  },
  {
   "cell_type": "code",
   "execution_count": null,
   "id": "5e9e6f6b-9dd3-4e05-9e0f-9c5a39b38875",
   "metadata": {},
   "outputs": [],
   "source": []
  },
  {
   "cell_type": "code",
   "execution_count": null,
   "id": "e943bfb5-ba00-4c7d-b5c5-4424b1361772",
   "metadata": {},
   "outputs": [],
   "source": []
  }
 ],
 "metadata": {
  "kernelspec": {
   "display_name": "Python 3 (ipykernel)",
   "language": "python",
   "name": "python3"
  },
  "language_info": {
   "codemirror_mode": {
    "name": "ipython",
    "version": 3
   },
   "file_extension": ".py",
   "mimetype": "text/x-python",
   "name": "python",
   "nbconvert_exporter": "python",
   "pygments_lexer": "ipython3",
   "version": "3.10.8"
  }
 },
 "nbformat": 4,
 "nbformat_minor": 5
}
