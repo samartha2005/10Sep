{
 "cells": [
  {
   "cell_type": "code",
   "execution_count": 1,
   "id": "251999d6-b8bc-413c-b8a3-d5806d29707e",
   "metadata": {},
   "outputs": [],
   "source": [
    "                            # Set Based Practice Problem :"
   ]
  },
  {
   "cell_type": "code",
   "execution_count": 2,
   "id": "b7189330-6327-434e-b360-8045ad7b9e9f",
   "metadata": {},
   "outputs": [
    {
     "data": {
      "text/plain": [
       "set"
      ]
     },
     "execution_count": 2,
     "metadata": {},
     "output_type": "execute_result"
    }
   ],
   "source": [
    "'''1. Create a set with integers from 1 to 5.'''\n",
    "\n",
    "s1 = {1,2,3,4,5}\n",
    "type(s1)"
   ]
  },
  {
   "cell_type": "code",
   "execution_count": 3,
   "id": "8726319b-2f7f-45bd-be58-e3cec894bf12",
   "metadata": {},
   "outputs": [],
   "source": [
    "# Below set for 2 to 4\n",
    "\n",
    "s2 = {4,5,6,7,7,8,1,0,4,7}"
   ]
  },
  {
   "cell_type": "code",
   "execution_count": 4,
   "id": "b9f1cf30-3bdc-4c23-b100-c751b5ed3277",
   "metadata": {},
   "outputs": [
    {
     "name": "stdout",
     "output_type": "stream",
     "text": [
      "s2 {0, 1, 4, 5, 6, 7, 8, 'Samu'}\n"
     ]
    }
   ],
   "source": [
    "'''2. Add an element to a set.'''\n",
    "\n",
    "s2.add('Samu')\n",
    "print(\"s2\", s2 )"
   ]
  },
  {
   "cell_type": "code",
   "execution_count": 5,
   "id": "5fe02536-9dc5-4183-b8f6-7fdbdc7c8387",
   "metadata": {},
   "outputs": [
    {
     "name": "stdout",
     "output_type": "stream",
     "text": [
      "s2 {1, 4, 5, 6, 7, 8, 'Samu'}\n"
     ]
    }
   ],
   "source": [
    "'''3. Remove an element from a set.'''\n",
    "\n",
    "s2.remove(0)\n",
    "print(\"s2\", s2 ) "
   ]
  },
  {
   "cell_type": "code",
   "execution_count": 6,
   "id": "6a440797-dcb3-4426-945a-9fefe70f51ba",
   "metadata": {},
   "outputs": [
    {
     "name": "stdout",
     "output_type": "stream",
     "text": [
      "4 in data  {1, 4, 5, 6, 7, 8, 'Samu'}\n"
     ]
    }
   ],
   "source": [
    "'''4. Check if an element exists in a set.'''\n",
    "\n",
    "print(\"4 in data \", s2)"
   ]
  },
  {
   "cell_type": "code",
   "execution_count": 7,
   "id": "061c4515-4998-4f79-8c27-d6e00139cb69",
   "metadata": {},
   "outputs": [
    {
     "name": "stdout",
     "output_type": "stream",
     "text": [
      "The set is : {1, 4, 5, 7, 8}\n",
      "Length of set using naive method is : 5\n"
     ]
    }
   ],
   "source": [
    "'''5. Find the length of a set without using the `len()` function.'''\n",
    "\n",
    " \n",
    "# Initializing set\n",
    "s3= {1, 4, 5, 7, 8}\n",
    " \n",
    "# Printing s3\n",
    "print(\"The set is : \" + str(s3))\n",
    " \n",
    "# Finding length of s3\n",
    "# using loop\n",
    "# Initializing counter\n",
    "counter = 0\n",
    "for i in s3:\n",
    " \n",
    "    # incrementing counter\n",
    "    counter = counter + 1\n",
    "\n",
    "# Printing length of set\n",
    "print(\"Length of set using naive method is : \" + str(counter))"
   ]
  },
  {
   "cell_type": "code",
   "execution_count": 8,
   "id": "a27d1177-e51b-440e-be59-45feadf41c11",
   "metadata": {},
   "outputs": [
    {
     "data": {
      "text/plain": [
       "set()"
      ]
     },
     "execution_count": 8,
     "metadata": {},
     "output_type": "execute_result"
    }
   ],
   "source": [
    "'''6. Clear all elements from a set.'''\n",
    "\n",
    "s4 = {44,11,55,66}\n",
    "s4.clear()\n",
    "s4"
   ]
  },
  {
   "cell_type": "code",
   "execution_count": 9,
   "id": "76fac3af-4167-4ae4-b298-b7e588c29cb7",
   "metadata": {},
   "outputs": [
    {
     "name": "stdout",
     "output_type": "stream",
     "text": [
      "Even Set Items =  {1, 2, 3, 4, 5, 6, 7, 8, 9, 10, 11, 12, 13, 14, 15, 16, 17, 18, 19, 20}\n",
      "\n",
      "The Even Numbers in this s5 Set are:\n",
      "2  4  6  8  10  12  14  16  18  20  "
     ]
    }
   ],
   "source": [
    "'''7. Create a set of even numbers from 1 to 10.'''\n",
    "       \n",
    "s5 = {1,2,3,4,5,6,7,8,9,10,11,12,13,14,15,16,17,18,19,20}\n",
    "print(\"Even Set Items = \", s5)\n",
    "\n",
    "print(\"\\nThe Even Numbers in this s5 Set are:\")\n",
    "for val in s5:\n",
    "    if(val % 2 == 0):\n",
    "        print(val, end = \"  \")\n",
    "\n",
    "   "
   ]
  },
  {
   "cell_type": "code",
   "execution_count": 10,
   "id": "bacfd87a-87f8-41fb-8599-34c16dc145f3",
   "metadata": {},
   "outputs": [
    {
     "name": "stdout",
     "output_type": "stream",
     "text": [
      "Odd Set Items =  {1, 2, 3, 4, 5, 6, 7, 8, 9, 10}\n",
      "\n",
      "The Odd Numbers in this oddSet Set are:\n",
      "1  3  5  7  9  "
     ]
    }
   ],
   "source": [
    "'''8. Create a set of odd numbers from 1 to 10.'''\n",
    "\n",
    "#code\n",
    "s6 = {1,2,3,4,5,6,7,8,9,10}\n",
    "print(\"Odd Set Items = \", s6)\n",
    "\n",
    "print(\"\\nThe Odd Numbers in this oddSet Set are:\")\n",
    "for odval in s6:\n",
    "    if(odval % 2 != 0):\n",
    "        print(odval, end = \"  \")"
   ]
  },
  {
   "cell_type": "code",
   "execution_count": 20,
   "id": "83ff56b5-470a-475c-bdbc-35a58d86d033",
   "metadata": {},
   "outputs": [],
   "source": [
    "# Below sets for 9 to 13\n",
    "A = {2, 4, 5, 6,7,8}\n",
    "B = {4, 6, 7, 8}"
   ]
  },
  {
   "cell_type": "code",
   "execution_count": 21,
   "id": "ddb6a676-2cda-4284-8128-f1dd68af81f3",
   "metadata": {
    "tags": []
   },
   "outputs": [
    {
     "name": "stdout",
     "output_type": "stream",
     "text": [
      "A U B: {2, 4, 5, 6, 7, 8}\n"
     ]
    }
   ],
   "source": [
    "'''9. Find the union of two sets.'''\n",
    "\n",
    "print(\"A U B:\", A.union(B))"
   ]
  },
  {
   "cell_type": "code",
   "execution_count": 22,
   "id": "94ac8bc5-85b9-4a1e-9e4c-619bc505a46a",
   "metadata": {},
   "outputs": [
    {
     "name": "stdout",
     "output_type": "stream",
     "text": [
      "{8, 4, 6, 7}\n"
     ]
    }
   ],
   "source": [
    "'''10. Find the intersection of two sets.'''\n",
    "\n",
    "print(B.intersection(A))"
   ]
  },
  {
   "cell_type": "code",
   "execution_count": 23,
   "id": "7618a962-a8a4-4589-9b3c-b467f2fd5110",
   "metadata": {},
   "outputs": [
    {
     "name": "stdout",
     "output_type": "stream",
     "text": [
      "Difference between A and B {2, 5}\n"
     ]
    }
   ],
   "source": [
    "'''11. Find the difference between two sets.'''\n",
    "\n",
    "print(\"Difference between A and B\", A-B)"
   ]
  },
  {
   "cell_type": "code",
   "execution_count": 24,
   "id": "cd6f9237-2811-48fd-a3e6-1a17d883db4b",
   "metadata": {},
   "outputs": [
    {
     "name": "stdout",
     "output_type": "stream",
     "text": [
      "Subset: False\n"
     ]
    }
   ],
   "source": [
    "'''12. Check if a set is a subset of another set.'''\n",
    "\n",
    "print(\"Subset:\" , A.issubset(B))"
   ]
  },
  {
   "cell_type": "code",
   "execution_count": 25,
   "id": "593b8f55-d95b-4b94-96f8-623e78effa77",
   "metadata": {},
   "outputs": [
    {
     "name": "stdout",
     "output_type": "stream",
     "text": [
      "Superset: True\n"
     ]
    }
   ],
   "source": [
    "'''13. Check if a set is a superset of another set.'''\n",
    "\n",
    "print(\"Superset:\" , A.issuperset(B))"
   ]
  },
  {
   "cell_type": "code",
   "execution_count": 33,
   "id": "dfda98d7-2bbd-407d-8b7e-aa75736b61c1",
   "metadata": {},
   "outputs": [
    {
     "name": "stdout",
     "output_type": "stream",
     "text": [
      "Set: {2, 4, 6, 8, 10}\n"
     ]
    }
   ],
   "source": [
    "'''14. Create a set from a list.'''\n",
    "\n",
    "# Initialize list\n",
    "l2 = [2,4,6,8,10]\n",
    "\n",
    "# Example 1: Convert the list to a set using set()\n",
    "myset = set(l2)\n",
    "print(\"Set:\", myset)\n",
    "\n",
    "# Example 2: Convert list to set \n",
    "# Using for loop\n",
    "myset = set()\n",
    "for item in l2:\n",
    "    myset.add(item)\n",
    "\n",
    "# Example 3: Convert list to set \n",
    "# Using set comprehension\n",
    "myset = {item for item in l2}\n",
    "\n",
    "# Example 4: Convert list to set \n",
    "# Using dict.fromkeys() method\n",
    "myset = set(dict.fromkeys(l2))"
   ]
  },
  {
   "cell_type": "code",
   "execution_count": 32,
   "id": "a999431d-17c3-4e42-b8de-05f95ff67771",
   "metadata": {
    "tags": []
   },
   "outputs": [
    {
     "name": "stdout",
     "output_type": "stream",
     "text": [
      "Set: {2, 3, 4, 5, 6}\n"
     ]
    }
   ],
   "source": [
    "'''15. Convert a set to a list.'''\n",
    "\n",
    "# Initialize list\n",
    "lists = [5, 2, 3, 4, 3, 5, 4, 6]\n",
    "\n",
    "# Example 1: Convert the list to a set using set()\n",
    "myset = set(lists)\n",
    "print(\"Set:\", myset)\n",
    "\n",
    "# Example 2: Convert list to set \n",
    "# Using for loop\n",
    "myset = set()\n",
    "for item in lists:\n",
    "    myset.add(item)\n",
    "\n",
    "# Example 3: Convert list to set \n",
    "# Using set comprehension\n",
    "myset = {item for item in lists}\n",
    "\n",
    "# Example 4: Convert list to set \n",
    "# Using dict.fromkeys() method\n",
    "myset = set(dict.fromkeys(lists))"
   ]
  },
  {
   "cell_type": "code",
   "execution_count": 38,
   "id": "3aaba892-e23e-4799-993e-3329c59cc9be",
   "metadata": {},
   "outputs": [
    {
     "name": "stdout",
     "output_type": "stream",
     "text": [
      "The original list : [6, 4, 8, 9, 10]\n",
      "List after removal of random number : [4, 8, 9, 10]\n"
     ]
    }
   ],
   "source": [
    "'''16. Remove a random element from a set.'''\n",
    "\n",
    "import random\n",
    "# initializing list\n",
    "l8 = [6, 4, 8, 9, 10]\n",
    " \n",
    "# printing list\n",
    "print(\"The original list : \" + str(l8))\n",
    " \n",
    "# Remove random element from list\n",
    "# Using randrange() + pop()\n",
    "l8.pop(random.randrange(len(l8)))\n",
    " \n",
    "# Printing result\n",
    "print(\"List after removal of random number : \" + str(l8))"
   ]
  },
  {
   "cell_type": "code",
   "execution_count": 39,
   "id": "1e4ac5a4-942c-454a-86ec-8303ff0820f7",
   "metadata": {},
   "outputs": [
    {
     "name": "stdout",
     "output_type": "stream",
     "text": [
      "banana\n"
     ]
    }
   ],
   "source": [
    "'''17. Pop an element from a set.'''\n",
    "\n",
    "fruits = {\"apple\", \"banana\", \"cherry\"}\n",
    "\n",
    "x = fruits.pop()\n",
    "\n",
    "print(x)"
   ]
  },
  {
   "cell_type": "code",
   "execution_count": 40,
   "id": "3d56dc92-20fd-4ff9-b81e-bb2c7ce9a324",
   "metadata": {},
   "outputs": [
    {
     "name": "stdout",
     "output_type": "stream",
     "text": [
      "a : {23, 8, 56, 45, 78}\n",
      "b : {42, 26, 55, 87}\n",
      "\n",
      "Two given sets have no Elements in Common..\n",
      "\n",
      "Compare A and B :  True\n",
      "Compare B and a:  True\n"
     ]
    }
   ],
   "source": [
    "'''18. Check if two sets have no elements in common.'''\n",
    "\n",
    "a = {23,45,78,8,56}\n",
    "b = {42,55,26,87}\n",
    "\n",
    "print(\"a :\",a)\n",
    "print(\"b :\",b)\n",
    "\n",
    "print(\"\\nTwo given sets have no Elements in Common..\")\n",
    "print(\"\\nCompare A and B : \",a.isdisjoint(b))\n",
    "print(\"Compare B and a: \",b.isdisjoint(a))\n"
   ]
  },
  {
   "cell_type": "code",
   "execution_count": 42,
   "id": "88af9391-56f9-461a-8fd0-8c0d28e8d8c3",
   "metadata": {},
   "outputs": [
    {
     "name": "stdout",
     "output_type": "stream",
     "text": [
      "Symmetric Difference: {1, 2, 3, 6, 7, 8}\n"
     ]
    }
   ],
   "source": [
    "'''19. Find the symmetric difference between two sets.'''\n",
    "\n",
    "set1 = {1, 2, 3, 4, 5}  \n",
    "set2 = {4, 5, 6, 7, 8}  \n",
    "  \n",
    "# Compute symmetric difference using the caret operator  \n",
    "sym_diff = set1 ^ set2  \n",
    "  \n",
    "# Print the symmetric difference  \n",
    "print(\"Symmetric Difference:\", sym_diff)  \n",
    "  "
   ]
  },
  {
   "cell_type": "code",
   "execution_count": null,
   "id": "88af5f14-888c-43bb-a984-3a2f7964846f",
   "metadata": {},
   "outputs": [],
   "source": [
    "'''20. Update a set with elements from another set.'''\n"
   ]
  },
  {
   "cell_type": "code",
   "execution_count": 44,
   "id": "1164ceaf-8e65-4821-aff7-afaf054fac46",
   "metadata": {},
   "outputs": [
    {
     "name": "stdout",
     "output_type": "stream",
     "text": [
      "Set of first 5 prime no: {2, 3, 5, 7, 11}\n"
     ]
    }
   ],
   "source": [
    "'''21. Create a set of the first 5 prime numbers.'''\n",
    "\n",
    "s9 = {2,3,5,7,11}\n",
    "print(\"Set of first 5 prime no:\", s9)"
   ]
  },
  {
   "cell_type": "code",
   "execution_count": 1,
   "id": "78f85349-43b8-4eb7-bb4e-c6dde7ac8682",
   "metadata": {},
   "outputs": [
    {
     "name": "stdout",
     "output_type": "stream",
     "text": [
      "The sets are identical.\n"
     ]
    }
   ],
   "source": [
    "'''22. Check if two sets are identical.'''\n",
    "\n",
    "set1 = {1, 2, 3, 4, 5}\n",
    "set2 = {3, 1, 5, 2, 4} \n",
    "if set1 == set2:\n",
    "    print(\"The sets are identical.\")\n",
    "else:\n",
    "    print(\"The sets are not identical.\")"
   ]
  },
  {
   "cell_type": "code",
   "execution_count": 2,
   "id": "d05ad58c-31ce-4397-afc3-52168cb67b77",
   "metadata": {},
   "outputs": [
    {
     "name": "stdout",
     "output_type": "stream",
     "text": [
      "Frozen Set: frozenset({1, 2, 3, 4, 5})\n"
     ]
    }
   ],
   "source": [
    "'''23. Create a frozen set'''\n",
    "\n",
    "elements = [1, 2, 3, 4, 5]\n",
    "my_frozen_set = frozenset(elements)\n",
    "print(\"Frozen Set:\", my_frozen_set)"
   ]
  },
  {
   "cell_type": "code",
   "execution_count": 3,
   "id": "34476d26-ca96-4e3b-a1a9-1475e4596140",
   "metadata": {},
   "outputs": [
    {
     "name": "stdout",
     "output_type": "stream",
     "text": [
      "Are the sets disjoint? True\n"
     ]
    }
   ],
   "source": [
    "'''24. Check if a set is disjoint with another set.'''\n",
    "\n",
    "set1 = {1, 2, 3, 4}\n",
    "set2 = {5, 6, 7, 8}\n",
    "disjoint_status = set1.isdisjoint(set2)\n",
    "print(\"Are the sets disjoint?\", disjoint_status)"
   ]
  },
  {
   "cell_type": "code",
   "execution_count": 5,
   "id": "8e417a13-cc6b-485b-b85e-964253e30bed",
   "metadata": {},
   "outputs": [
    {
     "name": "stdout",
     "output_type": "stream",
     "text": [
      "{1, 4, 9, 16, 25}\n"
     ]
    }
   ],
   "source": [
    "'''25. Create a set of squares of numbers from 1 to 5'''\n",
    "\n",
    "squares_set = set()\n",
    "for num in range(1, 6):\n",
    "    square = num ** 2\n",
    "    squares_set.add(square)\n",
    "print(squares_set)"
   ]
  },
  {
   "cell_type": "code",
   "execution_count": 6,
   "id": "929eb7f0-ce92-48bb-aeeb-b8f2ec79ea02",
   "metadata": {},
   "outputs": [
    {
     "name": "stdout",
     "output_type": "stream",
     "text": [
      "Original Set: {1, 2, 3, 4, 5}\n",
      "Even Numbers Set: {2, 4}\n"
     ]
    }
   ],
   "source": [
    "'''26. Filter out all even numbers from a set.'''\n",
    "\n",
    "original_set = {1, 2, 3, 4, 5}\n",
    "even_numbers_set = set()\n",
    "for num in original_set:\n",
    "    if num % 2 == 0:\n",
    "        even_numbers_set.add(num)\n",
    "print(\"Original Set:\", original_set)\n",
    "print(\"Even Numbers Set:\", even_numbers_set)"
   ]
  },
  {
   "cell_type": "code",
   "execution_count": 7,
   "id": "e416415c-bf3a-43e8-9842-3ab294a91144",
   "metadata": {},
   "outputs": [
    {
     "name": "stdout",
     "output_type": "stream",
     "text": [
      "Original Set: {1, 2, 3, 4, 5}\n",
      "Multiplied Set: {2, 4, 6, 8, 10}\n"
     ]
    }
   ],
   "source": [
    "'''27. Multiply all elements in a set by 2.'''\n",
    "\n",
    "original_set = {1, 2, 3, 4, 5}\n",
    "multiplied_set = set()\n",
    "for num in original_set:\n",
    "    multiplied_num = num * 2\n",
    "    multiplied_set.add(multiplied_num)\n",
    "print(\"Original Set:\", original_set)\n",
    "print(\"Multiplied Set:\", multiplied_set)"
   ]
  },
  {
   "cell_type": "code",
   "execution_count": 8,
   "id": "dc1aebd5-3405-489a-beed-a55dc991143b",
   "metadata": {},
   "outputs": [
    {
     "name": "stdout",
     "output_type": "stream",
     "text": [
      "Generated set of random numbers: {42, 20, 56, 92, 61}\n"
     ]
    }
   ],
   "source": [
    "'''28. Create a set of random numbers.'''\n",
    "\n",
    "import random\n",
    "num_random_numbers = 5\n",
    "random_number_set = set()\n",
    "for _ in range(num_random_numbers):\n",
    "    random_num = random.randint(1, 100)  \n",
    "    random_number_set.add(random_num)\n",
    "print(\"Generated set of random numbers:\", random_number_set)"
   ]
  },
  {
   "cell_type": "code",
   "execution_count": 9,
   "id": "656707e6-e341-491d-8ea0-dc9e163f926b",
   "metadata": {},
   "outputs": [
    {
     "name": "stdout",
     "output_type": "stream",
     "text": [
      "The set is empty.\n"
     ]
    }
   ],
   "source": [
    "'''29. Check if a set is empty.'''\n",
    "\n",
    "my_set = set()\n",
    "if not my_set:\n",
    "    print(\"The set is empty.\")\n",
    "else:\n",
    "    print(\"The set is not empty.\")"
   ]
  },
  {
   "cell_type": "code",
   "execution_count": 10,
   "id": "6dcacf2c-d696-4162-91df-a4b69a894174",
   "metadata": {},
   "outputs": [
    {
     "name": "stdout",
     "output_type": "stream",
     "text": [
      "Nested Set: {frozenset({1, 2, 3, 4, 5}), frozenset({6, 7, 8, 9, 10})}\n"
     ]
    }
   ],
   "source": [
    "'''30. Create a nested set (hint: use frozenset).'''\n",
    "\n",
    "set1 = {1, 2, 3, 4, 5}\n",
    "set2 = {6, 7, 8, 9, 10}\n",
    "frozen_set1 = frozenset(set1)\n",
    "frozen_set2 = frozenset(set2)\n",
    "nested_set = {frozen_set1, frozen_set2}\n",
    "print(\"Nested Set:\", nested_set)"
   ]
  },
  {
   "cell_type": "code",
   "execution_count": 11,
   "id": "209ad5f7-e827-4099-8e72-cec84a9a8b93",
   "metadata": {},
   "outputs": [
    {
     "name": "stdout",
     "output_type": "stream",
     "text": [
      "Initial set: {1, 2, 3, 4, 5}\n",
      "Set after removing 3 : {1, 2, 4, 5}\n"
     ]
    }
   ],
   "source": [
    "'''31.  Remove an element from a set using the discard method.'''\n",
    "\n",
    "my_set = {1, 2, 3, 4, 5}\n",
    "print(\"Initial set:\", my_set)\n",
    "element_to_remove = 3\n",
    "my_set.discard(element_to_remove)\n",
    "print(\"Set after removing\", element_to_remove, \":\", my_set)"
   ]
  },
  {
   "cell_type": "code",
   "execution_count": 12,
   "id": "73abf57a-9fdf-4251-b468-df6edd65425a",
   "metadata": {},
   "outputs": [
    {
     "name": "stdout",
     "output_type": "stream",
     "text": [
      "Set 1: {1, 2, 3, 4, 5}\n",
      "Set 2: {4, 5, 6, 7, 8}\n",
      "Is set1 a subset of set2? False\n",
      "Is set2 a subset of set1? False\n",
      "Intersection: {4, 5}\n",
      "Union: {1, 2, 3, 4, 5, 6, 7, 8}\n",
      "Elements in set1 but not in set2: {1, 2, 3}\n",
      "Elements in set2 but not in set1: {8, 6, 7}\n"
     ]
    }
   ],
   "source": [
    "'''32. Compare two sets.'''\n",
    "\n",
    "set1 = {1, 2, 3, 4, 5}\n",
    "set2 = {4, 5, 6, 7, 8}\n",
    "is_subset = set1.issubset(set2)\n",
    "is_superset = set1.issuperset(set2)\n",
    "intersection = set1.intersection(set2)\n",
    "union = set1.union(set2)\n",
    "difference1 = set1.difference(set2)\n",
    "difference2 = set2.difference(set1)\n",
    "print(\"Set 1:\", set1)\n",
    "print(\"Set 2:\", set2)\n",
    "print(\"Is set1 a subset of set2?\", is_subset)\n",
    "print(\"Is set2 a subset of set1?\", is_superset)\n",
    "print(\"Intersection:\", intersection)\n",
    "print(\"Union:\", union)\n",
    "print(\"Elements in set1 but not in set2:\", difference1)\n",
    "print(\"Elements in set2 but not in set1:\", difference2)"
   ]
  },
  {
   "cell_type": "code",
   "execution_count": 13,
   "id": "c0286ecf-2752-4e18-994e-3ad9bece66ca",
   "metadata": {},
   "outputs": [
    {
     "name": "stdout",
     "output_type": "stream",
     "text": [
      "{'o', 'h', 'e', 'l'}\n"
     ]
    }
   ],
   "source": [
    "'''33. Create a set from a string.'''\n",
    "\n",
    "input_string = \"hello\"\n",
    "char_set = set(input_string)\n",
    "print(char_set)"
   ]
  },
  {
   "cell_type": "code",
   "execution_count": 14,
   "id": "655a5666-4142-4d81-ba4e-e96657cef277",
   "metadata": {},
   "outputs": [
    {
     "name": "stdout",
     "output_type": "stream",
     "text": [
      "Original String Set: {'789', '123', '456'}\n",
      "Converted Integer Set: {456, 123, 789}\n"
     ]
    }
   ],
   "source": [
    "'''34. Convert a set of strings to a set of integers.'''\n",
    "\n",
    "string_set = {\"123\", \"456\", \"789\"}\n",
    "integer_set = set()\n",
    "for string in string_set:\n",
    "    integer_value = int(string)\n",
    "    integer_set.add(integer_value)\n",
    "print(\"Original String Set:\", string_set)\n",
    "print(\"Converted Integer Set:\", integer_set)"
   ]
  },
  {
   "cell_type": "code",
   "execution_count": 15,
   "id": "ee0e4147-bd53-481a-b90f-b70a14cefe8c",
   "metadata": {},
   "outputs": [
    {
     "name": "stdout",
     "output_type": "stream",
     "text": [
      "Original integers_set: {1, 2, 3, 4, 5}\n",
      "Converted strings_set: {'4', '1', '2', '3', '5'}\n"
     ]
    }
   ],
   "source": [
    "'''35. Convert a set of integers to a set of strings.'''\n",
    "\n",
    "integers_set = {1, 2, 3, 4, 5}\n",
    "strings_set = set()\n",
    "for num in integers_set:\n",
    "    num_str = str(num)\n",
    "    strings_set.add(num_str)\n",
    "print(\"Original integers_set:\", integers_set)\n",
    "print(\"Converted strings_set:\", strings_set)"
   ]
  },
  {
   "cell_type": "code",
   "execution_count": 17,
   "id": "032580d3-3c08-44e9-814d-8b9d16fd2958",
   "metadata": {},
   "outputs": [
    {
     "name": "stdout",
     "output_type": "stream",
     "text": [
      "{1, 2, 3, 4, 5}\n"
     ]
    }
   ],
   "source": [
    "'''36. Create a set from a tuple.'''\n",
    "\n",
    "input_tuple = (1, 2, 3, 2, 4, 5, 1)\n",
    "output_set = set(input_tuple)\n",
    "print(output_set)"
   ]
  },
  {
   "cell_type": "code",
   "execution_count": 18,
   "id": "431f265d-2408-4cab-9387-9528f9fc19bf",
   "metadata": {},
   "outputs": [
    {
     "name": "stdout",
     "output_type": "stream",
     "text": [
      "Original set: {1, 2, 3, 4, 5}\n",
      "Converted tuple: (1, 2, 3, 4, 5)\n"
     ]
    }
   ],
   "source": [
    "'''37. Convert a set to a tuple.'''\n",
    "\n",
    "input_set = {1, 2, 3, 4, 5}\n",
    "output_tuple = tuple(input_set)\n",
    "print(\"Original set:\", input_set)\n",
    "print(\"Converted tuple:\", output_tuple)"
   ]
  },
  {
   "cell_type": "code",
   "execution_count": 19,
   "id": "812cc0a1-56d0-4927-aaf5-f16b61f9ea04",
   "metadata": {},
   "outputs": [
    {
     "name": "stdout",
     "output_type": "stream",
     "text": [
      "Maximum value: 22\n"
     ]
    }
   ],
   "source": [
    "'''38. Find the maximum value in a set.'''\n",
    "\n",
    "my_set = {15, 7, 22, 13, 8}\n",
    "max_value = None\n",
    "for num in my_set:\n",
    "    if max_value is None or num > max_value:\n",
    "        max_value = num \n",
    "print(\"Maximum value:\", max_value)"
   ]
  },
  {
   "cell_type": "code",
   "execution_count": 21,
   "id": "211e19ff-f510-4efe-8905-f40c90d5de60",
   "metadata": {},
   "outputs": [
    {
     "name": "stdout",
     "output_type": "stream",
     "text": [
      "The minimum value in the set is: 4\n"
     ]
    }
   ],
   "source": [
    "'''39. Find the minimum value in a set.'''\n",
    "\n",
    "number_set = {15, 8, 23, 4, 42, 11}\n",
    "min_value = None\n",
    "for num in number_set:\n",
    "    if min_value is None or num < min_value:\n",
    "        min_value = num\n",
    "print(\"The minimum value in the set is:\", min_value)"
   ]
  },
  {
   "cell_type": "code",
   "execution_count": 23,
   "id": "1f3d27dc-3e03-408a-a9d4-2a575b889eae",
   "metadata": {},
   "outputs": [
    {
     "name": "stdout",
     "output_type": "stream",
     "text": [
      "Enter elements for the set (type 'done' to finish):\n"
     ]
    },
    {
     "name": "stdin",
     "output_type": "stream",
     "text": [
      ">  samu,shruti,rasika\n",
      ">  done\n"
     ]
    },
    {
     "name": "stdout",
     "output_type": "stream",
     "text": [
      "Final set: {'samu,shruti,rasika'}\n"
     ]
    }
   ],
   "source": [
    "'''40. Create a set from user input.'''\n",
    "\n",
    "user_set = set()\n",
    "print(\"Enter elements for the set (type 'done' to finish):\")\n",
    "while True:\n",
    "    user_input = input(\"> \") \n",
    "    if user_input.lower() == 'done':\n",
    "        break\n",
    "    user_set.add(user_input)\n",
    "print(\"Final set:\", user_set)"
   ]
  },
  {
   "cell_type": "code",
   "execution_count": 24,
   "id": "92047351-4907-4a10-a57d-0a0e0a498d6b",
   "metadata": {},
   "outputs": [
    {
     "name": "stdout",
     "output_type": "stream",
     "text": [
      "The intersection of the two sets is not empty.\n"
     ]
    }
   ],
   "source": [
    "'''41. Check if the intersection of two sets is empty.'''\n",
    "\n",
    "set1 = {1, 2, 3, 4, 5}\n",
    "set2 = {4, 5, 6, 7, 8}\n",
    "intersection_result = set1.intersection(set2)\n",
    "if not intersection_result:\n",
    "    print(\"The intersection of the two sets is empty.\")\n",
    "else:\n",
    "    print(\"The intersection of the two sets is not empty.\")"
   ]
  },
  {
   "cell_type": "code",
   "execution_count": 25,
   "id": "e4b45af4-7c55-408b-8355-1ab4976b9f1f",
   "metadata": {},
   "outputs": [
    {
     "name": "stdout",
     "output_type": "stream",
     "text": [
      "Set of the first 5 Fibonacci numbers: {0, 1, 2, 3, 5}\n"
     ]
    }
   ],
   "source": [
    "''' 42. Create a set of the first 5 Fibonacci numbers.'''\n",
    "\n",
    "fibonacci_set = set()\n",
    "a, b = 0, 1\n",
    "for _ in range(6):\n",
    "    fibonacci_set.add(a)\n",
    "    a, b = b, a + b\n",
    "print(\"Set of the first 5 Fibonacci numbers:\", fibonacci_set)"
   ]
  },
  {
   "cell_type": "code",
   "execution_count": 26,
   "id": "214e742d-5f20-4165-a231-2609acc5f465",
   "metadata": {},
   "outputs": [
    {
     "name": "stdout",
     "output_type": "stream",
     "text": [
      "Original List: [2, 4, 6, 8, 4, 10, 6, 12, 14, 8]\n",
      "List with Duplicates Removed: [2, 4, 6, 8, 10, 12, 14]\n"
     ]
    }
   ],
   "source": [
    "'''43. Remove duplicates from a list using sets.'''\n",
    "\n",
    "original_list = [2, 4, 6, 8, 4, 10, 6, 12, 14, 8]\n",
    "unique_set = set(original_list)\n",
    "unique_list = list(unique_set)\n",
    "print(\"Original List:\", original_list)\n",
    "print(\"List with Duplicates Removed:\", unique_list)"
   ]
  },
  {
   "cell_type": "code",
   "execution_count": 3,
   "id": "ec24fb4e-8718-4a77-8b0e-c6d04665d01d",
   "metadata": {},
   "outputs": [
    {
     "name": "stdout",
     "output_type": "stream",
     "text": [
      "The sets have the same elements.\n"
     ]
    }
   ],
   "source": [
    "'''44. Check if two sets have the same elements, regardless of their count.'''\n",
    "\n",
    "def have_same_elements(set1, set2):\n",
    "    sorted_list1 = sorted(list(set1))\n",
    "    sorted_list2 = sorted(list(set2))\n",
    "    return sorted_list1 == sorted_list2\n",
    "set1 = {1, 2, 3, 2, 1}\n",
    "set2 = {3, 1, 2}\n",
    "result = have_same_elements(set1, set2)\n",
    "if result:\n",
    "    print(\"The sets have the same elements.\")\n",
    "else:\n",
    "    print(\"The sets do not have the same elements.\")"
   ]
  },
  {
   "cell_type": "code",
   "execution_count": 4,
   "id": "76776e99-f6df-465e-9ac1-adc2229161be",
   "metadata": {},
   "outputs": [
    {
     "name": "stdout",
     "output_type": "stream",
     "text": [
      "{1, 2, 4, 8, 16}\n"
     ]
    }
   ],
   "source": [
    "'''45. Create a set of the first `n` powers of 2'''\n",
    "\n",
    "def generate_powers_of_2(n):\n",
    "    powers_of_2 = set()\n",
    "    for i in range(n):\n",
    "        power = 2 ** i\n",
    "        powers_of_2.add(power)\n",
    "    return powers_of_2\n",
    "n = 5\n",
    "powers_set = generate_powers_of_2(n)\n",
    "print(powers_set)"
   ]
  },
  {
   "cell_type": "code",
   "execution_count": 5,
   "id": "9312a5bb-ef23-4a7d-9c5b-7985d804834d",
   "metadata": {},
   "outputs": [
    {
     "name": "stdout",
     "output_type": "stream",
     "text": [
      "Common elements: [7, 9, 12]\n"
     ]
    }
   ],
   "source": [
    "'''46. Find the common elements between a set and a list.'''\n",
    "\n",
    "my_set = {3, 7, 9, 12, 15}\n",
    "my_list = [7, 12, 5, 9]\n",
    "list_to_set = set(my_list)\n",
    "common_elements = []\n",
    "for element in my_set:\n",
    "    if element in list_to_set:\n",
    "        common_elements.append(element)\n",
    "print(\"Common elements:\", common_elements)"
   ]
  },
  {
   "cell_type": "code",
   "execution_count": 6,
   "id": "4d7f4069-a0bc-4770-ad6e-591d6c249955",
   "metadata": {},
   "outputs": [
    {
     "name": "stdin",
     "output_type": "stream",
     "text": [
      "Enter the value of n:  3\n"
     ]
    },
    {
     "name": "stdout",
     "output_type": "stream",
     "text": [
      "The set of the first 3 triangular numbers is: {1, 3, 6}\n"
     ]
    }
   ],
   "source": [
    "'''47. Create a set of the first `n` triangular numbers.:'''\n",
    "\n",
    "def generate_triangular_numbers(n):\n",
    "    triangular_numbers = set() \n",
    "    for i in range(1, n + 1):\n",
    "        triangular_number = i * (i + 1) // 2 \n",
    "        triangular_numbers.add(triangular_number) \n",
    "    return triangular_numbers\n",
    "n = int(input(\"Enter the value of n: \"))\n",
    "triangular_set = generate_triangular_numbers(n)\n",
    "print(f\"The set of the first {n} triangular numbers is:\", triangular_set)"
   ]
  },
  {
   "cell_type": "code",
   "execution_count": 7,
   "id": "a4b8dd59-4e66-40da-82e5-d01c3b32c23d",
   "metadata": {},
   "outputs": [
    {
     "name": "stdout",
     "output_type": "stream",
     "text": [
      "set2 is a subset of set1\n"
     ]
    }
   ],
   "source": [
    "'''48. Check if a set contains another set as a subset.'''\n",
    "\n",
    "set1 = {1, 2, 3, 4, 5}\n",
    "set2 = {3, 4}\n",
    "is_subset = set2.issubset(set1)\n",
    "if is_subset:\n",
    "    print(\"set2 is a subset of set1\")\n",
    "else:\n",
    "    print(\"set2 is not a subset of set1\")"
   ]
  },
  {
   "cell_type": "code",
   "execution_count": null,
   "id": "1cf06887-6d96-4717-b5cb-5218b8c1d9c6",
   "metadata": {},
   "outputs": [],
   "source": [
    "'''49. Create a set of alternating 1s and 0s of length `n`.'''\n",
    "\n",
    "\n",
    "def create_alternating_set(n):\n",
    "    alternating_set = set()\n",
    "    for i in range(n):\n",
    "        if i % 2 == 0:\n",
    "            alternating_set.add(1)  \n",
    "        else:\n",
    "            alternating_set.add(0) \n",
    "    return alternating_set\n",
    "length_n = 10\n",
    "result = create_alternating_set(length_n)\n",
    "print(result)"
   ]
  },
  {
   "cell_type": "code",
   "execution_count": 8,
   "id": "fcaf18b6-7bc7-4f5c-8252-9fa2395153c6",
   "metadata": {},
   "outputs": [
    {
     "name": "stdout",
     "output_type": "stream",
     "text": [
      "Merged Set: {1, 2, 3, 4, 5, 6, 7}\n"
     ]
    }
   ],
   "source": [
    "'''50. Merge multiple sets into one'''\n",
    "\n",
    "set1 = {1, 2, 3}\n",
    "set2 = {3, 4, 5}\n",
    "set3 = {5, 6, 7}\n",
    "merged_set = set1.union(set2, set3)\n",
    "print(\"Merged Set:\", merged_set)"
   ]
  },
  {
   "cell_type": "code",
   "execution_count": null,
   "id": "1d6f1454-f6fe-4dae-80eb-28e285e402c9",
   "metadata": {},
   "outputs": [],
   "source": []
  },
  {
   "cell_type": "code",
   "execution_count": null,
   "id": "7253c475-144d-4aca-bf68-314d118390de",
   "metadata": {},
   "outputs": [],
   "source": []
  }
 ],
 "metadata": {
  "kernelspec": {
   "display_name": "Python 3 (ipykernel)",
   "language": "python",
   "name": "python3"
  },
  "language_info": {
   "codemirror_mode": {
    "name": "ipython",
    "version": 3
   },
   "file_extension": ".py",
   "mimetype": "text/x-python",
   "name": "python",
   "nbconvert_exporter": "python",
   "pygments_lexer": "ipython3",
   "version": "3.10.8"
  }
 },
 "nbformat": 4,
 "nbformat_minor": 5
}
